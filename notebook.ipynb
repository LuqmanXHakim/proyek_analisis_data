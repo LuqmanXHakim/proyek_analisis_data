{
 "cells": [
  {
   "cell_type": "markdown",
   "metadata": {},
   "source": [
    "# Proyek Analisis Data: Bike Sharing Dataset\n",
    "- Nama: **Luqman Hakim**\n",
    "- Email: **luqmanxhakim22042002@gmail.com**\n",
    "- Id Dicoding: **2608610**"
   ]
  },
  {
   "cell_type": "markdown",
   "metadata": {
    "collapsed": false,
    "id": "oXn1YaAtuTXO"
   },
   "source": [
    "## Menentukan Pertanyaan Bisnis\n",
    "\n",
    "1. Bagaimana pola permintaan penggunaan sepeda berdasarkan waktu tertentu? Kapan permintaan paling tinggi dan kapan permintaan paling rendah?\n",
    "\n",
    "0. Apakah terdapat perbedaan karakteristik antara pengguna kasual dan pengguna terdaftar dalam hal pola penggunaan?\n",
    "\n",
    "0. Apa saja faktor utama yang memengaruhi fluktuasi permintaan penggunaan sepeda?\n"
   ]
  },
  {
   "cell_type": "markdown",
   "metadata": {
    "id": "uN6tsFbZ9Pth"
   },
   "source": [
    "## Menyiapkan semua library yang dibutuhkan"
   ]
  },
  {
   "cell_type": "code",
   "execution_count": 43,
   "metadata": {
    "ExecuteTime": {
     "end_time": "2023-07-06T05:10:06.468599900Z",
     "start_time": "2023-07-06T05:10:06.007623Z"
    },
    "id": "2vju55i23d-K"
   },
   "outputs": [],
   "source": [
    "# import os\n",
    "# import gdown\n",
    "# import zipfile\n",
    "import datetime\n",
    "import pandas as pd\n",
    "import numpy as np\n",
    "import seaborn as sns\n",
    "import matplotlib.pyplot as plt"
   ]
  },
  {
   "cell_type": "markdown",
   "metadata": {
    "id": "YTw6aEhPS9mj"
   },
   "source": [
    "# Bike Sharing Dataset"
   ]
  },
  {
   "cell_type": "markdown",
   "metadata": {
    "id": "1RGPbsXhWOsE"
   },
   "source": [
    "## Data Wrangling"
   ]
  },
  {
   "cell_type": "markdown",
   "metadata": {},
   "source": [
    "### Gathering Data"
   ]
  },
  {
   "cell_type": "code",
   "execution_count": 44,
   "metadata": {
    "ExecuteTime": {
     "end_time": "2023-07-06T05:10:06.564981300Z",
     "start_time": "2023-07-06T05:10:06.486827800Z"
    },
    "colab": {
     "base_uri": "https://localhost:8080/",
     "height": 206
    },
    "id": "wxDIVEiZTok6",
    "outputId": "da53d364-7448-4203-c1f8-8ffa63d09b19"
   },
   "outputs": [
    {
     "data": {
      "text/html": [
       "<div>\n",
       "<style scoped>\n",
       "    .dataframe tbody tr th:only-of-type {\n",
       "        vertical-align: middle;\n",
       "    }\n",
       "\n",
       "    .dataframe tbody tr th {\n",
       "        vertical-align: top;\n",
       "    }\n",
       "\n",
       "    .dataframe thead th {\n",
       "        text-align: right;\n",
       "    }\n",
       "</style>\n",
       "<table border=\"1\" class=\"dataframe\">\n",
       "  <thead>\n",
       "    <tr style=\"text-align: right;\">\n",
       "      <th></th>\n",
       "      <th>instant</th>\n",
       "      <th>dteday</th>\n",
       "      <th>season</th>\n",
       "      <th>yr</th>\n",
       "      <th>mnth</th>\n",
       "      <th>holiday</th>\n",
       "      <th>weekday</th>\n",
       "      <th>workingday</th>\n",
       "      <th>weathersit</th>\n",
       "      <th>temp</th>\n",
       "      <th>atemp</th>\n",
       "      <th>hum</th>\n",
       "      <th>windspeed</th>\n",
       "      <th>casual</th>\n",
       "      <th>registered</th>\n",
       "      <th>cnt</th>\n",
       "    </tr>\n",
       "  </thead>\n",
       "  <tbody>\n",
       "    <tr>\n",
       "      <th>32</th>\n",
       "      <td>33</td>\n",
       "      <td>2011-02-02</td>\n",
       "      <td>1</td>\n",
       "      <td>0</td>\n",
       "      <td>2</td>\n",
       "      <td>0</td>\n",
       "      <td>3</td>\n",
       "      <td>1</td>\n",
       "      <td>2</td>\n",
       "      <td>0.260000</td>\n",
       "      <td>0.254417</td>\n",
       "      <td>0.775417</td>\n",
       "      <td>0.264308</td>\n",
       "      <td>72</td>\n",
       "      <td>1454</td>\n",
       "      <td>1526</td>\n",
       "    </tr>\n",
       "    <tr>\n",
       "      <th>84</th>\n",
       "      <td>85</td>\n",
       "      <td>2011-03-26</td>\n",
       "      <td>2</td>\n",
       "      <td>0</td>\n",
       "      <td>3</td>\n",
       "      <td>0</td>\n",
       "      <td>6</td>\n",
       "      <td>0</td>\n",
       "      <td>1</td>\n",
       "      <td>0.265833</td>\n",
       "      <td>0.257571</td>\n",
       "      <td>0.394167</td>\n",
       "      <td>0.209571</td>\n",
       "      <td>981</td>\n",
       "      <td>1515</td>\n",
       "      <td>2496</td>\n",
       "    </tr>\n",
       "    <tr>\n",
       "      <th>708</th>\n",
       "      <td>709</td>\n",
       "      <td>2012-12-09</td>\n",
       "      <td>4</td>\n",
       "      <td>1</td>\n",
       "      <td>12</td>\n",
       "      <td>0</td>\n",
       "      <td>0</td>\n",
       "      <td>0</td>\n",
       "      <td>2</td>\n",
       "      <td>0.384167</td>\n",
       "      <td>0.390146</td>\n",
       "      <td>0.905417</td>\n",
       "      <td>0.157975</td>\n",
       "      <td>441</td>\n",
       "      <td>2787</td>\n",
       "      <td>3228</td>\n",
       "    </tr>\n",
       "    <tr>\n",
       "      <th>454</th>\n",
       "      <td>455</td>\n",
       "      <td>2012-03-30</td>\n",
       "      <td>2</td>\n",
       "      <td>1</td>\n",
       "      <td>3</td>\n",
       "      <td>0</td>\n",
       "      <td>5</td>\n",
       "      <td>1</td>\n",
       "      <td>2</td>\n",
       "      <td>0.370000</td>\n",
       "      <td>0.375621</td>\n",
       "      <td>0.580833</td>\n",
       "      <td>0.138067</td>\n",
       "      <td>796</td>\n",
       "      <td>4663</td>\n",
       "      <td>5459</td>\n",
       "    </tr>\n",
       "    <tr>\n",
       "      <th>546</th>\n",
       "      <td>547</td>\n",
       "      <td>2012-06-30</td>\n",
       "      <td>3</td>\n",
       "      <td>1</td>\n",
       "      <td>6</td>\n",
       "      <td>0</td>\n",
       "      <td>6</td>\n",
       "      <td>0</td>\n",
       "      <td>1</td>\n",
       "      <td>0.765000</td>\n",
       "      <td>0.687508</td>\n",
       "      <td>0.601250</td>\n",
       "      <td>0.161071</td>\n",
       "      <td>1455</td>\n",
       "      <td>4232</td>\n",
       "      <td>5687</td>\n",
       "    </tr>\n",
       "  </tbody>\n",
       "</table>\n",
       "</div>"
      ],
      "text/plain": [
       "     instant      dteday  season  yr  mnth  holiday  weekday  workingday  \\\n",
       "32        33  2011-02-02       1   0     2        0        3           1   \n",
       "84        85  2011-03-26       2   0     3        0        6           0   \n",
       "708      709  2012-12-09       4   1    12        0        0           0   \n",
       "454      455  2012-03-30       2   1     3        0        5           1   \n",
       "546      547  2012-06-30       3   1     6        0        6           0   \n",
       "\n",
       "     weathersit      temp     atemp       hum  windspeed  casual  registered  \\\n",
       "32            2  0.260000  0.254417  0.775417   0.264308      72        1454   \n",
       "84            1  0.265833  0.257571  0.394167   0.209571     981        1515   \n",
       "708           2  0.384167  0.390146  0.905417   0.157975     441        2787   \n",
       "454           2  0.370000  0.375621  0.580833   0.138067     796        4663   \n",
       "546           1  0.765000  0.687508  0.601250   0.161071    1455        4232   \n",
       "\n",
       "      cnt  \n",
       "32   1526  \n",
       "84   2496  \n",
       "708  3228  \n",
       "454  5459  \n",
       "546  5687  "
      ]
     },
     "execution_count": 44,
     "metadata": {},
     "output_type": "execute_result"
    }
   ],
   "source": [
    "day_df = pd.read_csv('./data/day.csv')\n",
    "day_df.sample(5)"
   ]
  },
  {
   "cell_type": "code",
   "execution_count": 45,
   "metadata": {
    "ExecuteTime": {
     "end_time": "2023-07-06T05:10:06.795354800Z",
     "start_time": "2023-07-06T05:10:06.565995800Z"
    },
    "colab": {
     "base_uri": "https://localhost:8080/",
     "height": 206
    },
    "id": "-l5KBGsHVRV2",
    "outputId": "a311bb27-a506-4894-fc88-eabe33bd0ba6"
   },
   "outputs": [
    {
     "data": {
      "text/html": [
       "<div>\n",
       "<style scoped>\n",
       "    .dataframe tbody tr th:only-of-type {\n",
       "        vertical-align: middle;\n",
       "    }\n",
       "\n",
       "    .dataframe tbody tr th {\n",
       "        vertical-align: top;\n",
       "    }\n",
       "\n",
       "    .dataframe thead th {\n",
       "        text-align: right;\n",
       "    }\n",
       "</style>\n",
       "<table border=\"1\" class=\"dataframe\">\n",
       "  <thead>\n",
       "    <tr style=\"text-align: right;\">\n",
       "      <th></th>\n",
       "      <th>instant</th>\n",
       "      <th>dteday</th>\n",
       "      <th>season</th>\n",
       "      <th>yr</th>\n",
       "      <th>mnth</th>\n",
       "      <th>hr</th>\n",
       "      <th>holiday</th>\n",
       "      <th>weekday</th>\n",
       "      <th>workingday</th>\n",
       "      <th>weathersit</th>\n",
       "      <th>temp</th>\n",
       "      <th>atemp</th>\n",
       "      <th>hum</th>\n",
       "      <th>windspeed</th>\n",
       "      <th>casual</th>\n",
       "      <th>registered</th>\n",
       "      <th>cnt</th>\n",
       "    </tr>\n",
       "  </thead>\n",
       "  <tbody>\n",
       "    <tr>\n",
       "      <th>6353</th>\n",
       "      <td>6354</td>\n",
       "      <td>2011-09-27</td>\n",
       "      <td>4</td>\n",
       "      <td>0</td>\n",
       "      <td>9</td>\n",
       "      <td>7</td>\n",
       "      <td>0</td>\n",
       "      <td>2</td>\n",
       "      <td>1</td>\n",
       "      <td>2</td>\n",
       "      <td>0.62</td>\n",
       "      <td>0.5455</td>\n",
       "      <td>0.94</td>\n",
       "      <td>0.1045</td>\n",
       "      <td>15</td>\n",
       "      <td>234</td>\n",
       "      <td>249</td>\n",
       "    </tr>\n",
       "    <tr>\n",
       "      <th>14095</th>\n",
       "      <td>14096</td>\n",
       "      <td>2012-08-15</td>\n",
       "      <td>3</td>\n",
       "      <td>1</td>\n",
       "      <td>8</td>\n",
       "      <td>12</td>\n",
       "      <td>0</td>\n",
       "      <td>3</td>\n",
       "      <td>1</td>\n",
       "      <td>1</td>\n",
       "      <td>0.74</td>\n",
       "      <td>0.6818</td>\n",
       "      <td>0.55</td>\n",
       "      <td>0.2239</td>\n",
       "      <td>77</td>\n",
       "      <td>230</td>\n",
       "      <td>307</td>\n",
       "    </tr>\n",
       "    <tr>\n",
       "      <th>14371</th>\n",
       "      <td>14372</td>\n",
       "      <td>2012-08-27</td>\n",
       "      <td>3</td>\n",
       "      <td>1</td>\n",
       "      <td>8</td>\n",
       "      <td>0</td>\n",
       "      <td>0</td>\n",
       "      <td>1</td>\n",
       "      <td>1</td>\n",
       "      <td>1</td>\n",
       "      <td>0.62</td>\n",
       "      <td>0.5758</td>\n",
       "      <td>0.83</td>\n",
       "      <td>0.0000</td>\n",
       "      <td>4</td>\n",
       "      <td>28</td>\n",
       "      <td>32</td>\n",
       "    </tr>\n",
       "    <tr>\n",
       "      <th>10881</th>\n",
       "      <td>10882</td>\n",
       "      <td>2012-04-03</td>\n",
       "      <td>2</td>\n",
       "      <td>1</td>\n",
       "      <td>4</td>\n",
       "      <td>13</td>\n",
       "      <td>0</td>\n",
       "      <td>2</td>\n",
       "      <td>1</td>\n",
       "      <td>1</td>\n",
       "      <td>0.56</td>\n",
       "      <td>0.5303</td>\n",
       "      <td>0.19</td>\n",
       "      <td>0.2537</td>\n",
       "      <td>120</td>\n",
       "      <td>225</td>\n",
       "      <td>345</td>\n",
       "    </tr>\n",
       "    <tr>\n",
       "      <th>4258</th>\n",
       "      <td>4259</td>\n",
       "      <td>2011-07-01</td>\n",
       "      <td>3</td>\n",
       "      <td>0</td>\n",
       "      <td>7</td>\n",
       "      <td>8</td>\n",
       "      <td>0</td>\n",
       "      <td>5</td>\n",
       "      <td>1</td>\n",
       "      <td>1</td>\n",
       "      <td>0.70</td>\n",
       "      <td>0.6364</td>\n",
       "      <td>0.42</td>\n",
       "      <td>0.1642</td>\n",
       "      <td>39</td>\n",
       "      <td>453</td>\n",
       "      <td>492</td>\n",
       "    </tr>\n",
       "  </tbody>\n",
       "</table>\n",
       "</div>"
      ],
      "text/plain": [
       "       instant      dteday  season  yr  mnth  hr  holiday  weekday  \\\n",
       "6353      6354  2011-09-27       4   0     9   7        0        2   \n",
       "14095    14096  2012-08-15       3   1     8  12        0        3   \n",
       "14371    14372  2012-08-27       3   1     8   0        0        1   \n",
       "10881    10882  2012-04-03       2   1     4  13        0        2   \n",
       "4258      4259  2011-07-01       3   0     7   8        0        5   \n",
       "\n",
       "       workingday  weathersit  temp   atemp   hum  windspeed  casual  \\\n",
       "6353            1           2  0.62  0.5455  0.94     0.1045      15   \n",
       "14095           1           1  0.74  0.6818  0.55     0.2239      77   \n",
       "14371           1           1  0.62  0.5758  0.83     0.0000       4   \n",
       "10881           1           1  0.56  0.5303  0.19     0.2537     120   \n",
       "4258            1           1  0.70  0.6364  0.42     0.1642      39   \n",
       "\n",
       "       registered  cnt  \n",
       "6353          234  249  \n",
       "14095         230  307  \n",
       "14371          28   32  \n",
       "10881         225  345  \n",
       "4258          453  492  "
      ]
     },
     "execution_count": 45,
     "metadata": {},
     "output_type": "execute_result"
    }
   ],
   "source": [
    "hour_df = pd.read_csv('./data/hour.csv')\n",
    "hour_df.sample(5)"
   ]
  },
  {
   "cell_type": "markdown",
   "metadata": {
    "id": "zQHnw7FFLtAf"
   },
   "source": [
    "### Assessing Data"
   ]
  },
  {
   "cell_type": "markdown",
   "metadata": {
    "id": "9_-A6-wDdwKt"
   },
   "source": [
    "mengecek info masing-masing data frame"
   ]
  },
  {
   "cell_type": "code",
   "execution_count": 46,
   "metadata": {
    "ExecuteTime": {
     "end_time": "2023-07-06T05:10:06.934924200Z",
     "start_time": "2023-07-06T05:10:06.644169400Z"
    },
    "colab": {
     "base_uri": "https://localhost:8080/"
    },
    "id": "hAtaFYeUXi8X",
    "outputId": "c75d01df-4e28-4e1c-bca1-99006648e27b"
   },
   "outputs": [
    {
     "name": "stdout",
     "output_type": "stream",
     "text": [
      "<class 'pandas.core.frame.DataFrame'>\n",
      "RangeIndex: 731 entries, 0 to 730\n",
      "Data columns (total 16 columns):\n",
      " #   Column      Non-Null Count  Dtype  \n",
      "---  ------      --------------  -----  \n",
      " 0   instant     731 non-null    int64  \n",
      " 1   dteday      731 non-null    object \n",
      " 2   season      731 non-null    int64  \n",
      " 3   yr          731 non-null    int64  \n",
      " 4   mnth        731 non-null    int64  \n",
      " 5   holiday     731 non-null    int64  \n",
      " 6   weekday     731 non-null    int64  \n",
      " 7   workingday  731 non-null    int64  \n",
      " 8   weathersit  731 non-null    int64  \n",
      " 9   temp        731 non-null    float64\n",
      " 10  atemp       731 non-null    float64\n",
      " 11  hum         731 non-null    float64\n",
      " 12  windspeed   731 non-null    float64\n",
      " 13  casual      731 non-null    int64  \n",
      " 14  registered  731 non-null    int64  \n",
      " 15  cnt         731 non-null    int64  \n",
      "dtypes: float64(4), int64(11), object(1)\n",
      "memory usage: 91.5+ KB\n"
     ]
    }
   ],
   "source": [
    "day_df.info()"
   ]
  },
  {
   "cell_type": "code",
   "execution_count": 47,
   "metadata": {
    "ExecuteTime": {
     "end_time": "2023-07-06T05:10:07.002745Z",
     "start_time": "2023-07-06T05:10:06.691616700Z"
    },
    "colab": {
     "base_uri": "https://localhost:8080/"
    },
    "id": "BlZrLkYDXvoU",
    "outputId": "d4d9bc33-c54d-4ae9-e84f-66b2bde247b9"
   },
   "outputs": [
    {
     "name": "stdout",
     "output_type": "stream",
     "text": [
      "<class 'pandas.core.frame.DataFrame'>\n",
      "RangeIndex: 17379 entries, 0 to 17378\n",
      "Data columns (total 17 columns):\n",
      " #   Column      Non-Null Count  Dtype  \n",
      "---  ------      --------------  -----  \n",
      " 0   instant     17379 non-null  int64  \n",
      " 1   dteday      17379 non-null  object \n",
      " 2   season      17379 non-null  int64  \n",
      " 3   yr          17379 non-null  int64  \n",
      " 4   mnth        17379 non-null  int64  \n",
      " 5   hr          17379 non-null  int64  \n",
      " 6   holiday     17379 non-null  int64  \n",
      " 7   weekday     17379 non-null  int64  \n",
      " 8   workingday  17379 non-null  int64  \n",
      " 9   weathersit  17379 non-null  int64  \n",
      " 10  temp        17379 non-null  float64\n",
      " 11  atemp       17379 non-null  float64\n",
      " 12  hum         17379 non-null  float64\n",
      " 13  windspeed   17379 non-null  float64\n",
      " 14  casual      17379 non-null  int64  \n",
      " 15  registered  17379 non-null  int64  \n",
      " 16  cnt         17379 non-null  int64  \n",
      "dtypes: float64(4), int64(12), object(1)\n",
      "memory usage: 2.3+ MB\n"
     ]
    }
   ],
   "source": [
    "hour_df.info()"
   ]
  },
  {
   "cell_type": "markdown",
   "metadata": {
    "id": "-cFZ1r_TdlVc"
   },
   "source": [
    "Berdasarkan info diatas , kita dapat mengetahui bahwa tidak terdapat kolom dengan missing value. Untuk kolom tanggal yaitu `dteday` akan dibiarkan dalam bentuk string terlebih dahulu. Selanjutnya kita akan mengecek apakah ada data yang terduplikasi."
   ]
  },
  {
   "cell_type": "code",
   "execution_count": 48,
   "metadata": {
    "ExecuteTime": {
     "end_time": "2023-07-06T05:10:07.003755800Z",
     "start_time": "2023-07-06T05:10:06.726935200Z"
    },
    "colab": {
     "base_uri": "https://localhost:8080/"
    },
    "id": "70YQi-RaenGs",
    "outputId": "ce618be9-5815-416a-d74b-1c9bd4c615b7"
   },
   "outputs": [
    {
     "data": {
      "text/plain": [
       "0"
      ]
     },
     "execution_count": 48,
     "metadata": {},
     "output_type": "execute_result"
    }
   ],
   "source": [
    "day_df.duplicated().sum()"
   ]
  },
  {
   "cell_type": "code",
   "execution_count": 49,
   "metadata": {
    "ExecuteTime": {
     "end_time": "2023-07-06T05:10:07.005749300Z",
     "start_time": "2023-07-06T05:10:06.760641300Z"
    },
    "colab": {
     "base_uri": "https://localhost:8080/"
    },
    "id": "bPBcoPICesVF",
    "outputId": "ee3ce1ae-d301-4e6b-f35b-e32fad7a3c9c"
   },
   "outputs": [
    {
     "data": {
      "text/plain": [
       "0"
      ]
     },
     "execution_count": 49,
     "metadata": {},
     "output_type": "execute_result"
    }
   ],
   "source": [
    "hour_df.duplicated().sum()"
   ]
  },
  {
   "cell_type": "markdown",
   "metadata": {
    "id": "xeiPxRmLe3At"
   },
   "source": [
    "Terlihat bahwa tidak ada baris yang terduplikasi, selanjutnnya kita akan melihat apakah ada data yang tidak akurat."
   ]
  },
  {
   "cell_type": "code",
   "execution_count": 50,
   "metadata": {
    "ExecuteTime": {
     "end_time": "2023-07-06T05:10:07.233229500Z",
     "start_time": "2023-07-06T05:10:06.786648300Z"
    },
    "colab": {
     "base_uri": "https://localhost:8080/",
     "height": 432
    },
    "id": "6vvhYr3ye3mm",
    "outputId": "1aac3e14-83f3-48ec-86b6-c99a2c9cc1aa"
   },
   "outputs": [
    {
     "data": {
      "text/html": [
       "<div>\n",
       "<style scoped>\n",
       "    .dataframe tbody tr th:only-of-type {\n",
       "        vertical-align: middle;\n",
       "    }\n",
       "\n",
       "    .dataframe tbody tr th {\n",
       "        vertical-align: top;\n",
       "    }\n",
       "\n",
       "    .dataframe thead th {\n",
       "        text-align: right;\n",
       "    }\n",
       "</style>\n",
       "<table border=\"1\" class=\"dataframe\">\n",
       "  <thead>\n",
       "    <tr style=\"text-align: right;\">\n",
       "      <th></th>\n",
       "      <th>instant</th>\n",
       "      <th>dteday</th>\n",
       "      <th>season</th>\n",
       "      <th>yr</th>\n",
       "      <th>mnth</th>\n",
       "      <th>holiday</th>\n",
       "      <th>weekday</th>\n",
       "      <th>workingday</th>\n",
       "      <th>weathersit</th>\n",
       "      <th>temp</th>\n",
       "      <th>atemp</th>\n",
       "      <th>hum</th>\n",
       "      <th>windspeed</th>\n",
       "      <th>casual</th>\n",
       "      <th>registered</th>\n",
       "      <th>cnt</th>\n",
       "    </tr>\n",
       "  </thead>\n",
       "  <tbody>\n",
       "    <tr>\n",
       "      <th>count</th>\n",
       "      <td>731.000000</td>\n",
       "      <td>731</td>\n",
       "      <td>731.000000</td>\n",
       "      <td>731.000000</td>\n",
       "      <td>731.000000</td>\n",
       "      <td>731.000000</td>\n",
       "      <td>731.000000</td>\n",
       "      <td>731.000000</td>\n",
       "      <td>731.000000</td>\n",
       "      <td>731.000000</td>\n",
       "      <td>731.000000</td>\n",
       "      <td>731.000000</td>\n",
       "      <td>731.000000</td>\n",
       "      <td>731.000000</td>\n",
       "      <td>731.000000</td>\n",
       "      <td>731.000000</td>\n",
       "    </tr>\n",
       "    <tr>\n",
       "      <th>unique</th>\n",
       "      <td>NaN</td>\n",
       "      <td>731</td>\n",
       "      <td>NaN</td>\n",
       "      <td>NaN</td>\n",
       "      <td>NaN</td>\n",
       "      <td>NaN</td>\n",
       "      <td>NaN</td>\n",
       "      <td>NaN</td>\n",
       "      <td>NaN</td>\n",
       "      <td>NaN</td>\n",
       "      <td>NaN</td>\n",
       "      <td>NaN</td>\n",
       "      <td>NaN</td>\n",
       "      <td>NaN</td>\n",
       "      <td>NaN</td>\n",
       "      <td>NaN</td>\n",
       "    </tr>\n",
       "    <tr>\n",
       "      <th>top</th>\n",
       "      <td>NaN</td>\n",
       "      <td>2011-01-01</td>\n",
       "      <td>NaN</td>\n",
       "      <td>NaN</td>\n",
       "      <td>NaN</td>\n",
       "      <td>NaN</td>\n",
       "      <td>NaN</td>\n",
       "      <td>NaN</td>\n",
       "      <td>NaN</td>\n",
       "      <td>NaN</td>\n",
       "      <td>NaN</td>\n",
       "      <td>NaN</td>\n",
       "      <td>NaN</td>\n",
       "      <td>NaN</td>\n",
       "      <td>NaN</td>\n",
       "      <td>NaN</td>\n",
       "    </tr>\n",
       "    <tr>\n",
       "      <th>freq</th>\n",
       "      <td>NaN</td>\n",
       "      <td>1</td>\n",
       "      <td>NaN</td>\n",
       "      <td>NaN</td>\n",
       "      <td>NaN</td>\n",
       "      <td>NaN</td>\n",
       "      <td>NaN</td>\n",
       "      <td>NaN</td>\n",
       "      <td>NaN</td>\n",
       "      <td>NaN</td>\n",
       "      <td>NaN</td>\n",
       "      <td>NaN</td>\n",
       "      <td>NaN</td>\n",
       "      <td>NaN</td>\n",
       "      <td>NaN</td>\n",
       "      <td>NaN</td>\n",
       "    </tr>\n",
       "    <tr>\n",
       "      <th>mean</th>\n",
       "      <td>366.000000</td>\n",
       "      <td>NaN</td>\n",
       "      <td>2.496580</td>\n",
       "      <td>0.500684</td>\n",
       "      <td>6.519836</td>\n",
       "      <td>0.028728</td>\n",
       "      <td>2.997264</td>\n",
       "      <td>0.683995</td>\n",
       "      <td>1.395349</td>\n",
       "      <td>0.495385</td>\n",
       "      <td>0.474354</td>\n",
       "      <td>0.627894</td>\n",
       "      <td>0.190486</td>\n",
       "      <td>848.176471</td>\n",
       "      <td>3656.172367</td>\n",
       "      <td>4504.348837</td>\n",
       "    </tr>\n",
       "    <tr>\n",
       "      <th>std</th>\n",
       "      <td>211.165812</td>\n",
       "      <td>NaN</td>\n",
       "      <td>1.110807</td>\n",
       "      <td>0.500342</td>\n",
       "      <td>3.451913</td>\n",
       "      <td>0.167155</td>\n",
       "      <td>2.004787</td>\n",
       "      <td>0.465233</td>\n",
       "      <td>0.544894</td>\n",
       "      <td>0.183051</td>\n",
       "      <td>0.162961</td>\n",
       "      <td>0.142429</td>\n",
       "      <td>0.077498</td>\n",
       "      <td>686.622488</td>\n",
       "      <td>1560.256377</td>\n",
       "      <td>1937.211452</td>\n",
       "    </tr>\n",
       "    <tr>\n",
       "      <th>min</th>\n",
       "      <td>1.000000</td>\n",
       "      <td>NaN</td>\n",
       "      <td>1.000000</td>\n",
       "      <td>0.000000</td>\n",
       "      <td>1.000000</td>\n",
       "      <td>0.000000</td>\n",
       "      <td>0.000000</td>\n",
       "      <td>0.000000</td>\n",
       "      <td>1.000000</td>\n",
       "      <td>0.059130</td>\n",
       "      <td>0.079070</td>\n",
       "      <td>0.000000</td>\n",
       "      <td>0.022392</td>\n",
       "      <td>2.000000</td>\n",
       "      <td>20.000000</td>\n",
       "      <td>22.000000</td>\n",
       "    </tr>\n",
       "    <tr>\n",
       "      <th>25%</th>\n",
       "      <td>183.500000</td>\n",
       "      <td>NaN</td>\n",
       "      <td>2.000000</td>\n",
       "      <td>0.000000</td>\n",
       "      <td>4.000000</td>\n",
       "      <td>0.000000</td>\n",
       "      <td>1.000000</td>\n",
       "      <td>0.000000</td>\n",
       "      <td>1.000000</td>\n",
       "      <td>0.337083</td>\n",
       "      <td>0.337842</td>\n",
       "      <td>0.520000</td>\n",
       "      <td>0.134950</td>\n",
       "      <td>315.500000</td>\n",
       "      <td>2497.000000</td>\n",
       "      <td>3152.000000</td>\n",
       "    </tr>\n",
       "    <tr>\n",
       "      <th>50%</th>\n",
       "      <td>366.000000</td>\n",
       "      <td>NaN</td>\n",
       "      <td>3.000000</td>\n",
       "      <td>1.000000</td>\n",
       "      <td>7.000000</td>\n",
       "      <td>0.000000</td>\n",
       "      <td>3.000000</td>\n",
       "      <td>1.000000</td>\n",
       "      <td>1.000000</td>\n",
       "      <td>0.498333</td>\n",
       "      <td>0.486733</td>\n",
       "      <td>0.626667</td>\n",
       "      <td>0.180975</td>\n",
       "      <td>713.000000</td>\n",
       "      <td>3662.000000</td>\n",
       "      <td>4548.000000</td>\n",
       "    </tr>\n",
       "    <tr>\n",
       "      <th>75%</th>\n",
       "      <td>548.500000</td>\n",
       "      <td>NaN</td>\n",
       "      <td>3.000000</td>\n",
       "      <td>1.000000</td>\n",
       "      <td>10.000000</td>\n",
       "      <td>0.000000</td>\n",
       "      <td>5.000000</td>\n",
       "      <td>1.000000</td>\n",
       "      <td>2.000000</td>\n",
       "      <td>0.655417</td>\n",
       "      <td>0.608602</td>\n",
       "      <td>0.730209</td>\n",
       "      <td>0.233214</td>\n",
       "      <td>1096.000000</td>\n",
       "      <td>4776.500000</td>\n",
       "      <td>5956.000000</td>\n",
       "    </tr>\n",
       "    <tr>\n",
       "      <th>max</th>\n",
       "      <td>731.000000</td>\n",
       "      <td>NaN</td>\n",
       "      <td>4.000000</td>\n",
       "      <td>1.000000</td>\n",
       "      <td>12.000000</td>\n",
       "      <td>1.000000</td>\n",
       "      <td>6.000000</td>\n",
       "      <td>1.000000</td>\n",
       "      <td>3.000000</td>\n",
       "      <td>0.861667</td>\n",
       "      <td>0.840896</td>\n",
       "      <td>0.972500</td>\n",
       "      <td>0.507463</td>\n",
       "      <td>3410.000000</td>\n",
       "      <td>6946.000000</td>\n",
       "      <td>8714.000000</td>\n",
       "    </tr>\n",
       "  </tbody>\n",
       "</table>\n",
       "</div>"
      ],
      "text/plain": [
       "           instant      dteday      season          yr        mnth  \\\n",
       "count   731.000000         731  731.000000  731.000000  731.000000   \n",
       "unique         NaN         731         NaN         NaN         NaN   \n",
       "top            NaN  2011-01-01         NaN         NaN         NaN   \n",
       "freq           NaN           1         NaN         NaN         NaN   \n",
       "mean    366.000000         NaN    2.496580    0.500684    6.519836   \n",
       "std     211.165812         NaN    1.110807    0.500342    3.451913   \n",
       "min       1.000000         NaN    1.000000    0.000000    1.000000   \n",
       "25%     183.500000         NaN    2.000000    0.000000    4.000000   \n",
       "50%     366.000000         NaN    3.000000    1.000000    7.000000   \n",
       "75%     548.500000         NaN    3.000000    1.000000   10.000000   \n",
       "max     731.000000         NaN    4.000000    1.000000   12.000000   \n",
       "\n",
       "           holiday     weekday  workingday  weathersit        temp  \\\n",
       "count   731.000000  731.000000  731.000000  731.000000  731.000000   \n",
       "unique         NaN         NaN         NaN         NaN         NaN   \n",
       "top            NaN         NaN         NaN         NaN         NaN   \n",
       "freq           NaN         NaN         NaN         NaN         NaN   \n",
       "mean      0.028728    2.997264    0.683995    1.395349    0.495385   \n",
       "std       0.167155    2.004787    0.465233    0.544894    0.183051   \n",
       "min       0.000000    0.000000    0.000000    1.000000    0.059130   \n",
       "25%       0.000000    1.000000    0.000000    1.000000    0.337083   \n",
       "50%       0.000000    3.000000    1.000000    1.000000    0.498333   \n",
       "75%       0.000000    5.000000    1.000000    2.000000    0.655417   \n",
       "max       1.000000    6.000000    1.000000    3.000000    0.861667   \n",
       "\n",
       "             atemp         hum   windspeed       casual   registered  \\\n",
       "count   731.000000  731.000000  731.000000   731.000000   731.000000   \n",
       "unique         NaN         NaN         NaN          NaN          NaN   \n",
       "top            NaN         NaN         NaN          NaN          NaN   \n",
       "freq           NaN         NaN         NaN          NaN          NaN   \n",
       "mean      0.474354    0.627894    0.190486   848.176471  3656.172367   \n",
       "std       0.162961    0.142429    0.077498   686.622488  1560.256377   \n",
       "min       0.079070    0.000000    0.022392     2.000000    20.000000   \n",
       "25%       0.337842    0.520000    0.134950   315.500000  2497.000000   \n",
       "50%       0.486733    0.626667    0.180975   713.000000  3662.000000   \n",
       "75%       0.608602    0.730209    0.233214  1096.000000  4776.500000   \n",
       "max       0.840896    0.972500    0.507463  3410.000000  6946.000000   \n",
       "\n",
       "                cnt  \n",
       "count    731.000000  \n",
       "unique          NaN  \n",
       "top             NaN  \n",
       "freq            NaN  \n",
       "mean    4504.348837  \n",
       "std     1937.211452  \n",
       "min       22.000000  \n",
       "25%     3152.000000  \n",
       "50%     4548.000000  \n",
       "75%     5956.000000  \n",
       "max     8714.000000  "
      ]
     },
     "execution_count": 50,
     "metadata": {},
     "output_type": "execute_result"
    }
   ],
   "source": [
    "day_df.describe(include='all')"
   ]
  },
  {
   "cell_type": "code",
   "execution_count": 51,
   "metadata": {
    "ExecuteTime": {
     "end_time": "2023-07-06T05:10:07.234233300Z",
     "start_time": "2023-07-06T05:10:06.890977900Z"
    },
    "colab": {
     "base_uri": "https://localhost:8080/",
     "height": 432
    },
    "id": "znB05EAefKv4",
    "outputId": "5c3cc074-7618-4d2a-a841-13ddd8ebf2f9"
   },
   "outputs": [
    {
     "data": {
      "text/html": [
       "<div>\n",
       "<style scoped>\n",
       "    .dataframe tbody tr th:only-of-type {\n",
       "        vertical-align: middle;\n",
       "    }\n",
       "\n",
       "    .dataframe tbody tr th {\n",
       "        vertical-align: top;\n",
       "    }\n",
       "\n",
       "    .dataframe thead th {\n",
       "        text-align: right;\n",
       "    }\n",
       "</style>\n",
       "<table border=\"1\" class=\"dataframe\">\n",
       "  <thead>\n",
       "    <tr style=\"text-align: right;\">\n",
       "      <th></th>\n",
       "      <th>instant</th>\n",
       "      <th>dteday</th>\n",
       "      <th>season</th>\n",
       "      <th>yr</th>\n",
       "      <th>mnth</th>\n",
       "      <th>hr</th>\n",
       "      <th>holiday</th>\n",
       "      <th>weekday</th>\n",
       "      <th>workingday</th>\n",
       "      <th>weathersit</th>\n",
       "      <th>temp</th>\n",
       "      <th>atemp</th>\n",
       "      <th>hum</th>\n",
       "      <th>windspeed</th>\n",
       "      <th>casual</th>\n",
       "      <th>registered</th>\n",
       "      <th>cnt</th>\n",
       "    </tr>\n",
       "  </thead>\n",
       "  <tbody>\n",
       "    <tr>\n",
       "      <th>count</th>\n",
       "      <td>17379.0000</td>\n",
       "      <td>17379</td>\n",
       "      <td>17379.000000</td>\n",
       "      <td>17379.000000</td>\n",
       "      <td>17379.000000</td>\n",
       "      <td>17379.000000</td>\n",
       "      <td>17379.000000</td>\n",
       "      <td>17379.000000</td>\n",
       "      <td>17379.000000</td>\n",
       "      <td>17379.000000</td>\n",
       "      <td>17379.000000</td>\n",
       "      <td>17379.000000</td>\n",
       "      <td>17379.000000</td>\n",
       "      <td>17379.000000</td>\n",
       "      <td>17379.000000</td>\n",
       "      <td>17379.000000</td>\n",
       "      <td>17379.000000</td>\n",
       "    </tr>\n",
       "    <tr>\n",
       "      <th>unique</th>\n",
       "      <td>NaN</td>\n",
       "      <td>731</td>\n",
       "      <td>NaN</td>\n",
       "      <td>NaN</td>\n",
       "      <td>NaN</td>\n",
       "      <td>NaN</td>\n",
       "      <td>NaN</td>\n",
       "      <td>NaN</td>\n",
       "      <td>NaN</td>\n",
       "      <td>NaN</td>\n",
       "      <td>NaN</td>\n",
       "      <td>NaN</td>\n",
       "      <td>NaN</td>\n",
       "      <td>NaN</td>\n",
       "      <td>NaN</td>\n",
       "      <td>NaN</td>\n",
       "      <td>NaN</td>\n",
       "    </tr>\n",
       "    <tr>\n",
       "      <th>top</th>\n",
       "      <td>NaN</td>\n",
       "      <td>2011-01-01</td>\n",
       "      <td>NaN</td>\n",
       "      <td>NaN</td>\n",
       "      <td>NaN</td>\n",
       "      <td>NaN</td>\n",
       "      <td>NaN</td>\n",
       "      <td>NaN</td>\n",
       "      <td>NaN</td>\n",
       "      <td>NaN</td>\n",
       "      <td>NaN</td>\n",
       "      <td>NaN</td>\n",
       "      <td>NaN</td>\n",
       "      <td>NaN</td>\n",
       "      <td>NaN</td>\n",
       "      <td>NaN</td>\n",
       "      <td>NaN</td>\n",
       "    </tr>\n",
       "    <tr>\n",
       "      <th>freq</th>\n",
       "      <td>NaN</td>\n",
       "      <td>24</td>\n",
       "      <td>NaN</td>\n",
       "      <td>NaN</td>\n",
       "      <td>NaN</td>\n",
       "      <td>NaN</td>\n",
       "      <td>NaN</td>\n",
       "      <td>NaN</td>\n",
       "      <td>NaN</td>\n",
       "      <td>NaN</td>\n",
       "      <td>NaN</td>\n",
       "      <td>NaN</td>\n",
       "      <td>NaN</td>\n",
       "      <td>NaN</td>\n",
       "      <td>NaN</td>\n",
       "      <td>NaN</td>\n",
       "      <td>NaN</td>\n",
       "    </tr>\n",
       "    <tr>\n",
       "      <th>mean</th>\n",
       "      <td>8690.0000</td>\n",
       "      <td>NaN</td>\n",
       "      <td>2.501640</td>\n",
       "      <td>0.502561</td>\n",
       "      <td>6.537775</td>\n",
       "      <td>11.546752</td>\n",
       "      <td>0.028770</td>\n",
       "      <td>3.003683</td>\n",
       "      <td>0.682721</td>\n",
       "      <td>1.425283</td>\n",
       "      <td>0.496987</td>\n",
       "      <td>0.475775</td>\n",
       "      <td>0.627229</td>\n",
       "      <td>0.190098</td>\n",
       "      <td>35.676218</td>\n",
       "      <td>153.786869</td>\n",
       "      <td>189.463088</td>\n",
       "    </tr>\n",
       "    <tr>\n",
       "      <th>std</th>\n",
       "      <td>5017.0295</td>\n",
       "      <td>NaN</td>\n",
       "      <td>1.106918</td>\n",
       "      <td>0.500008</td>\n",
       "      <td>3.438776</td>\n",
       "      <td>6.914405</td>\n",
       "      <td>0.167165</td>\n",
       "      <td>2.005771</td>\n",
       "      <td>0.465431</td>\n",
       "      <td>0.639357</td>\n",
       "      <td>0.192556</td>\n",
       "      <td>0.171850</td>\n",
       "      <td>0.192930</td>\n",
       "      <td>0.122340</td>\n",
       "      <td>49.305030</td>\n",
       "      <td>151.357286</td>\n",
       "      <td>181.387599</td>\n",
       "    </tr>\n",
       "    <tr>\n",
       "      <th>min</th>\n",
       "      <td>1.0000</td>\n",
       "      <td>NaN</td>\n",
       "      <td>1.000000</td>\n",
       "      <td>0.000000</td>\n",
       "      <td>1.000000</td>\n",
       "      <td>0.000000</td>\n",
       "      <td>0.000000</td>\n",
       "      <td>0.000000</td>\n",
       "      <td>0.000000</td>\n",
       "      <td>1.000000</td>\n",
       "      <td>0.020000</td>\n",
       "      <td>0.000000</td>\n",
       "      <td>0.000000</td>\n",
       "      <td>0.000000</td>\n",
       "      <td>0.000000</td>\n",
       "      <td>0.000000</td>\n",
       "      <td>1.000000</td>\n",
       "    </tr>\n",
       "    <tr>\n",
       "      <th>25%</th>\n",
       "      <td>4345.5000</td>\n",
       "      <td>NaN</td>\n",
       "      <td>2.000000</td>\n",
       "      <td>0.000000</td>\n",
       "      <td>4.000000</td>\n",
       "      <td>6.000000</td>\n",
       "      <td>0.000000</td>\n",
       "      <td>1.000000</td>\n",
       "      <td>0.000000</td>\n",
       "      <td>1.000000</td>\n",
       "      <td>0.340000</td>\n",
       "      <td>0.333300</td>\n",
       "      <td>0.480000</td>\n",
       "      <td>0.104500</td>\n",
       "      <td>4.000000</td>\n",
       "      <td>34.000000</td>\n",
       "      <td>40.000000</td>\n",
       "    </tr>\n",
       "    <tr>\n",
       "      <th>50%</th>\n",
       "      <td>8690.0000</td>\n",
       "      <td>NaN</td>\n",
       "      <td>3.000000</td>\n",
       "      <td>1.000000</td>\n",
       "      <td>7.000000</td>\n",
       "      <td>12.000000</td>\n",
       "      <td>0.000000</td>\n",
       "      <td>3.000000</td>\n",
       "      <td>1.000000</td>\n",
       "      <td>1.000000</td>\n",
       "      <td>0.500000</td>\n",
       "      <td>0.484800</td>\n",
       "      <td>0.630000</td>\n",
       "      <td>0.194000</td>\n",
       "      <td>17.000000</td>\n",
       "      <td>115.000000</td>\n",
       "      <td>142.000000</td>\n",
       "    </tr>\n",
       "    <tr>\n",
       "      <th>75%</th>\n",
       "      <td>13034.5000</td>\n",
       "      <td>NaN</td>\n",
       "      <td>3.000000</td>\n",
       "      <td>1.000000</td>\n",
       "      <td>10.000000</td>\n",
       "      <td>18.000000</td>\n",
       "      <td>0.000000</td>\n",
       "      <td>5.000000</td>\n",
       "      <td>1.000000</td>\n",
       "      <td>2.000000</td>\n",
       "      <td>0.660000</td>\n",
       "      <td>0.621200</td>\n",
       "      <td>0.780000</td>\n",
       "      <td>0.253700</td>\n",
       "      <td>48.000000</td>\n",
       "      <td>220.000000</td>\n",
       "      <td>281.000000</td>\n",
       "    </tr>\n",
       "    <tr>\n",
       "      <th>max</th>\n",
       "      <td>17379.0000</td>\n",
       "      <td>NaN</td>\n",
       "      <td>4.000000</td>\n",
       "      <td>1.000000</td>\n",
       "      <td>12.000000</td>\n",
       "      <td>23.000000</td>\n",
       "      <td>1.000000</td>\n",
       "      <td>6.000000</td>\n",
       "      <td>1.000000</td>\n",
       "      <td>4.000000</td>\n",
       "      <td>1.000000</td>\n",
       "      <td>1.000000</td>\n",
       "      <td>1.000000</td>\n",
       "      <td>0.850700</td>\n",
       "      <td>367.000000</td>\n",
       "      <td>886.000000</td>\n",
       "      <td>977.000000</td>\n",
       "    </tr>\n",
       "  </tbody>\n",
       "</table>\n",
       "</div>"
      ],
      "text/plain": [
       "           instant      dteday        season            yr          mnth  \\\n",
       "count   17379.0000       17379  17379.000000  17379.000000  17379.000000   \n",
       "unique         NaN         731           NaN           NaN           NaN   \n",
       "top            NaN  2011-01-01           NaN           NaN           NaN   \n",
       "freq           NaN          24           NaN           NaN           NaN   \n",
       "mean     8690.0000         NaN      2.501640      0.502561      6.537775   \n",
       "std      5017.0295         NaN      1.106918      0.500008      3.438776   \n",
       "min         1.0000         NaN      1.000000      0.000000      1.000000   \n",
       "25%      4345.5000         NaN      2.000000      0.000000      4.000000   \n",
       "50%      8690.0000         NaN      3.000000      1.000000      7.000000   \n",
       "75%     13034.5000         NaN      3.000000      1.000000     10.000000   \n",
       "max     17379.0000         NaN      4.000000      1.000000     12.000000   \n",
       "\n",
       "                  hr       holiday       weekday    workingday    weathersit  \\\n",
       "count   17379.000000  17379.000000  17379.000000  17379.000000  17379.000000   \n",
       "unique           NaN           NaN           NaN           NaN           NaN   \n",
       "top              NaN           NaN           NaN           NaN           NaN   \n",
       "freq             NaN           NaN           NaN           NaN           NaN   \n",
       "mean       11.546752      0.028770      3.003683      0.682721      1.425283   \n",
       "std         6.914405      0.167165      2.005771      0.465431      0.639357   \n",
       "min         0.000000      0.000000      0.000000      0.000000      1.000000   \n",
       "25%         6.000000      0.000000      1.000000      0.000000      1.000000   \n",
       "50%        12.000000      0.000000      3.000000      1.000000      1.000000   \n",
       "75%        18.000000      0.000000      5.000000      1.000000      2.000000   \n",
       "max        23.000000      1.000000      6.000000      1.000000      4.000000   \n",
       "\n",
       "                temp         atemp           hum     windspeed        casual  \\\n",
       "count   17379.000000  17379.000000  17379.000000  17379.000000  17379.000000   \n",
       "unique           NaN           NaN           NaN           NaN           NaN   \n",
       "top              NaN           NaN           NaN           NaN           NaN   \n",
       "freq             NaN           NaN           NaN           NaN           NaN   \n",
       "mean        0.496987      0.475775      0.627229      0.190098     35.676218   \n",
       "std         0.192556      0.171850      0.192930      0.122340     49.305030   \n",
       "min         0.020000      0.000000      0.000000      0.000000      0.000000   \n",
       "25%         0.340000      0.333300      0.480000      0.104500      4.000000   \n",
       "50%         0.500000      0.484800      0.630000      0.194000     17.000000   \n",
       "75%         0.660000      0.621200      0.780000      0.253700     48.000000   \n",
       "max         1.000000      1.000000      1.000000      0.850700    367.000000   \n",
       "\n",
       "          registered           cnt  \n",
       "count   17379.000000  17379.000000  \n",
       "unique           NaN           NaN  \n",
       "top              NaN           NaN  \n",
       "freq             NaN           NaN  \n",
       "mean      153.786869    189.463088  \n",
       "std       151.357286    181.387599  \n",
       "min         0.000000      1.000000  \n",
       "25%        34.000000     40.000000  \n",
       "50%       115.000000    142.000000  \n",
       "75%       220.000000    281.000000  \n",
       "max       886.000000    977.000000  "
      ]
     },
     "execution_count": 51,
     "metadata": {},
     "output_type": "execute_result"
    }
   ],
   "source": [
    "hour_df.describe(include='all')"
   ]
  },
  {
   "cell_type": "markdown",
   "metadata": {
    "id": "IySghbmdn_G0"
   },
   "source": [
    "Berdasarkan informasi di atas kita dapat melihat bahwa:\n",
    "- `season` memiliki rentang nilai 1 sampai 4, sesuai dengan jumlah musim dalam setahun\n",
    "- `yr` memiliki nilai 0 atau 1\n",
    "- `mnth` memiliki rentang nilai 1-12, sesuai dengan jumlah bulan dalam setahun\n",
    "- `holiday` memiliki nilai 0 atau 1\n",
    "- `weekday` memiliki rentang nilai 0-6, sesuai dengan jumlah hari dalam seminggu\n",
    "- `workingday` memiliki nilai 0 atau 1\n",
    "- `weathersit` memiliki nilai antara 1-4 ,sesuai deskripsi dari file Readme\n",
    "- `temp` memiliki rentang nilai 0 - 1\n",
    "- `atemp` memiliki rentang nilai 0 - 1\n",
    "- `hum` memiliki rentang nilai 0 - 1\n",
    "- `windspeed` memiliki rentang nilai 0 - 1\n",
    "\n",
    "Jadi, semua kolom yg saya sebutkan sudah terisi dengan benar (tidak terdapat data yang tidak akurat). Sesuai dengan deskripsi yang diberikan di file Readme."
   ]
  },
  {
   "cell_type": "markdown",
   "metadata": {
    "id": "wNZ_SiEjuTXR"
   },
   "source": [
    "Namun pada `hour_df` terdapat kejanggalan, karena seharusnya nilai `mean` pada kolom `hr` atau jam pas 11.5 (hanya ada angka 5 dibelakang koma)."
   ]
  },
  {
   "cell_type": "code",
   "execution_count": 52,
   "metadata": {
    "ExecuteTime": {
     "end_time": "2023-07-06T05:10:07.238222200Z",
     "start_time": "2023-07-06T05:10:06.972535600Z"
    },
    "colab": {
     "base_uri": "https://localhost:8080/",
     "height": 424
    },
    "id": "o-rb_JRiuTXS",
    "outputId": "ca47919d-8576-4ba0-bafe-1093d861d702"
   },
   "outputs": [
    {
     "data": {
      "text/html": [
       "<div>\n",
       "<style scoped>\n",
       "    .dataframe tbody tr th:only-of-type {\n",
       "        vertical-align: middle;\n",
       "    }\n",
       "\n",
       "    .dataframe tbody tr th {\n",
       "        vertical-align: top;\n",
       "    }\n",
       "\n",
       "    .dataframe thead th {\n",
       "        text-align: right;\n",
       "    }\n",
       "</style>\n",
       "<table border=\"1\" class=\"dataframe\">\n",
       "  <thead>\n",
       "    <tr style=\"text-align: right;\">\n",
       "      <th></th>\n",
       "      <th>dteday</th>\n",
       "      <th>instant</th>\n",
       "    </tr>\n",
       "  </thead>\n",
       "  <tbody>\n",
       "    <tr>\n",
       "      <th>667</th>\n",
       "      <td>2012-10-29</td>\n",
       "      <td>1</td>\n",
       "    </tr>\n",
       "    <tr>\n",
       "      <th>26</th>\n",
       "      <td>2011-01-27</td>\n",
       "      <td>8</td>\n",
       "    </tr>\n",
       "    <tr>\n",
       "      <th>668</th>\n",
       "      <td>2012-10-30</td>\n",
       "      <td>11</td>\n",
       "    </tr>\n",
       "    <tr>\n",
       "      <th>17</th>\n",
       "      <td>2011-01-18</td>\n",
       "      <td>12</td>\n",
       "    </tr>\n",
       "    <tr>\n",
       "      <th>25</th>\n",
       "      <td>2011-01-26</td>\n",
       "      <td>16</td>\n",
       "    </tr>\n",
       "    <tr>\n",
       "      <th>...</th>\n",
       "      <td>...</td>\n",
       "      <td>...</td>\n",
       "    </tr>\n",
       "    <tr>\n",
       "      <th>723</th>\n",
       "      <td>2012-12-24</td>\n",
       "      <td>23</td>\n",
       "    </tr>\n",
       "    <tr>\n",
       "      <th>69</th>\n",
       "      <td>2011-03-11</td>\n",
       "      <td>23</td>\n",
       "    </tr>\n",
       "    <tr>\n",
       "      <th>71</th>\n",
       "      <td>2011-03-13</td>\n",
       "      <td>23</td>\n",
       "    </tr>\n",
       "    <tr>\n",
       "      <th>34</th>\n",
       "      <td>2011-02-04</td>\n",
       "      <td>23</td>\n",
       "    </tr>\n",
       "    <tr>\n",
       "      <th>724</th>\n",
       "      <td>2012-12-25</td>\n",
       "      <td>23</td>\n",
       "    </tr>\n",
       "  </tbody>\n",
       "</table>\n",
       "<p>76 rows × 2 columns</p>\n",
       "</div>"
      ],
      "text/plain": [
       "         dteday  instant\n",
       "667  2012-10-29        1\n",
       "26   2011-01-27        8\n",
       "668  2012-10-30       11\n",
       "17   2011-01-18       12\n",
       "25   2011-01-26       16\n",
       "..          ...      ...\n",
       "723  2012-12-24       23\n",
       "69   2011-03-11       23\n",
       "71   2011-03-13       23\n",
       "34   2011-02-04       23\n",
       "724  2012-12-25       23\n",
       "\n",
       "[76 rows x 2 columns]"
      ]
     },
     "execution_count": 52,
     "metadata": {},
     "output_type": "execute_result"
    }
   ],
   "source": [
    "by_date_instat = hour_df.groupby(by=\"dteday\").agg({'instant':'count'}).reset_index()\n",
    "by_date_instat[by_date_instat['instant'] < 24].sort_values('instant')"
   ]
  },
  {
   "cell_type": "markdown",
   "metadata": {
    "id": "YraViNMOuTXS"
   },
   "source": [
    "ternyata data pada `hour_df` ada yang tidak lengkap untuk 24 jam pada beberapa tanggal. Untuk mengatasi hal ini pertama saya akan menggabungkan kolom `dteday` dan `hr` menjadi kolom `datetime`"
   ]
  },
  {
   "cell_type": "markdown",
   "metadata": {},
   "source": [
    "### Cleaning Data"
   ]
  },
  {
   "cell_type": "code",
   "execution_count": 53,
   "metadata": {
    "ExecuteTime": {
     "end_time": "2023-07-06T05:10:07.382738900Z",
     "start_time": "2023-07-06T05:10:07.023439700Z"
    },
    "colab": {
     "base_uri": "https://localhost:8080/",
     "height": 206
    },
    "id": "M0Vb8m7suTXS",
    "outputId": "58ba51a6-15d9-41de-a9fe-4820ab3a4ae9"
   },
   "outputs": [
    {
     "data": {
      "text/html": [
       "<div>\n",
       "<style scoped>\n",
       "    .dataframe tbody tr th:only-of-type {\n",
       "        vertical-align: middle;\n",
       "    }\n",
       "\n",
       "    .dataframe tbody tr th {\n",
       "        vertical-align: top;\n",
       "    }\n",
       "\n",
       "    .dataframe thead th {\n",
       "        text-align: right;\n",
       "    }\n",
       "</style>\n",
       "<table border=\"1\" class=\"dataframe\">\n",
       "  <thead>\n",
       "    <tr style=\"text-align: right;\">\n",
       "      <th></th>\n",
       "      <th>instant</th>\n",
       "      <th>dteday</th>\n",
       "      <th>season</th>\n",
       "      <th>yr</th>\n",
       "      <th>mnth</th>\n",
       "      <th>hr</th>\n",
       "      <th>holiday</th>\n",
       "      <th>weekday</th>\n",
       "      <th>workingday</th>\n",
       "      <th>weathersit</th>\n",
       "      <th>temp</th>\n",
       "      <th>atemp</th>\n",
       "      <th>hum</th>\n",
       "      <th>windspeed</th>\n",
       "      <th>casual</th>\n",
       "      <th>registered</th>\n",
       "      <th>cnt</th>\n",
       "      <th>datetime</th>\n",
       "    </tr>\n",
       "  </thead>\n",
       "  <tbody>\n",
       "    <tr>\n",
       "      <th>0</th>\n",
       "      <td>1</td>\n",
       "      <td>2011-01-01</td>\n",
       "      <td>1</td>\n",
       "      <td>0</td>\n",
       "      <td>1</td>\n",
       "      <td>0</td>\n",
       "      <td>0</td>\n",
       "      <td>6</td>\n",
       "      <td>0</td>\n",
       "      <td>1</td>\n",
       "      <td>0.24</td>\n",
       "      <td>0.2879</td>\n",
       "      <td>0.81</td>\n",
       "      <td>0.0</td>\n",
       "      <td>3</td>\n",
       "      <td>13</td>\n",
       "      <td>16</td>\n",
       "      <td>2011-01-01 00:00:00</td>\n",
       "    </tr>\n",
       "    <tr>\n",
       "      <th>1</th>\n",
       "      <td>2</td>\n",
       "      <td>2011-01-01</td>\n",
       "      <td>1</td>\n",
       "      <td>0</td>\n",
       "      <td>1</td>\n",
       "      <td>1</td>\n",
       "      <td>0</td>\n",
       "      <td>6</td>\n",
       "      <td>0</td>\n",
       "      <td>1</td>\n",
       "      <td>0.22</td>\n",
       "      <td>0.2727</td>\n",
       "      <td>0.80</td>\n",
       "      <td>0.0</td>\n",
       "      <td>8</td>\n",
       "      <td>32</td>\n",
       "      <td>40</td>\n",
       "      <td>2011-01-01 01:00:00</td>\n",
       "    </tr>\n",
       "    <tr>\n",
       "      <th>2</th>\n",
       "      <td>3</td>\n",
       "      <td>2011-01-01</td>\n",
       "      <td>1</td>\n",
       "      <td>0</td>\n",
       "      <td>1</td>\n",
       "      <td>2</td>\n",
       "      <td>0</td>\n",
       "      <td>6</td>\n",
       "      <td>0</td>\n",
       "      <td>1</td>\n",
       "      <td>0.22</td>\n",
       "      <td>0.2727</td>\n",
       "      <td>0.80</td>\n",
       "      <td>0.0</td>\n",
       "      <td>5</td>\n",
       "      <td>27</td>\n",
       "      <td>32</td>\n",
       "      <td>2011-01-01 02:00:00</td>\n",
       "    </tr>\n",
       "    <tr>\n",
       "      <th>3</th>\n",
       "      <td>4</td>\n",
       "      <td>2011-01-01</td>\n",
       "      <td>1</td>\n",
       "      <td>0</td>\n",
       "      <td>1</td>\n",
       "      <td>3</td>\n",
       "      <td>0</td>\n",
       "      <td>6</td>\n",
       "      <td>0</td>\n",
       "      <td>1</td>\n",
       "      <td>0.24</td>\n",
       "      <td>0.2879</td>\n",
       "      <td>0.75</td>\n",
       "      <td>0.0</td>\n",
       "      <td>3</td>\n",
       "      <td>10</td>\n",
       "      <td>13</td>\n",
       "      <td>2011-01-01 03:00:00</td>\n",
       "    </tr>\n",
       "    <tr>\n",
       "      <th>4</th>\n",
       "      <td>5</td>\n",
       "      <td>2011-01-01</td>\n",
       "      <td>1</td>\n",
       "      <td>0</td>\n",
       "      <td>1</td>\n",
       "      <td>4</td>\n",
       "      <td>0</td>\n",
       "      <td>6</td>\n",
       "      <td>0</td>\n",
       "      <td>1</td>\n",
       "      <td>0.24</td>\n",
       "      <td>0.2879</td>\n",
       "      <td>0.75</td>\n",
       "      <td>0.0</td>\n",
       "      <td>0</td>\n",
       "      <td>1</td>\n",
       "      <td>1</td>\n",
       "      <td>2011-01-01 04:00:00</td>\n",
       "    </tr>\n",
       "  </tbody>\n",
       "</table>\n",
       "</div>"
      ],
      "text/plain": [
       "   instant      dteday  season  yr  mnth  hr  holiday  weekday  workingday  \\\n",
       "0        1  2011-01-01       1   0     1   0        0        6           0   \n",
       "1        2  2011-01-01       1   0     1   1        0        6           0   \n",
       "2        3  2011-01-01       1   0     1   2        0        6           0   \n",
       "3        4  2011-01-01       1   0     1   3        0        6           0   \n",
       "4        5  2011-01-01       1   0     1   4        0        6           0   \n",
       "\n",
       "   weathersit  temp   atemp   hum  windspeed  casual  registered  cnt  \\\n",
       "0           1  0.24  0.2879  0.81        0.0       3          13   16   \n",
       "1           1  0.22  0.2727  0.80        0.0       8          32   40   \n",
       "2           1  0.22  0.2727  0.80        0.0       5          27   32   \n",
       "3           1  0.24  0.2879  0.75        0.0       3          10   13   \n",
       "4           1  0.24  0.2879  0.75        0.0       0           1    1   \n",
       "\n",
       "             datetime  \n",
       "0 2011-01-01 00:00:00  \n",
       "1 2011-01-01 01:00:00  \n",
       "2 2011-01-01 02:00:00  \n",
       "3 2011-01-01 03:00:00  \n",
       "4 2011-01-01 04:00:00  "
      ]
     },
     "execution_count": 53,
     "metadata": {},
     "output_type": "execute_result"
    }
   ],
   "source": [
    "hour_df['datetime'] = pd.to_datetime(hour_df.dteday) + pd.to_timedelta(hour_df['hr'], unit='h')\n",
    "hour_df.head()"
   ]
  },
  {
   "cell_type": "code",
   "execution_count": 54,
   "metadata": {
    "ExecuteTime": {
     "end_time": "2023-07-06T05:10:08.524549300Z",
     "start_time": "2023-07-06T05:10:07.074733600Z"
    },
    "colab": {
     "base_uri": "https://localhost:8080/",
     "height": 429
    },
    "id": "baF3WXcvuTXS",
    "outputId": "47d7b7f5-d120-4a6f-cbe4-198316c0f60d"
   },
   "outputs": [
    {
     "data": {
      "text/html": [
       "<div>\n",
       "<style scoped>\n",
       "    .dataframe tbody tr th:only-of-type {\n",
       "        vertical-align: middle;\n",
       "    }\n",
       "\n",
       "    .dataframe tbody tr th {\n",
       "        vertical-align: top;\n",
       "    }\n",
       "\n",
       "    .dataframe thead th {\n",
       "        text-align: right;\n",
       "    }\n",
       "</style>\n",
       "<table border=\"1\" class=\"dataframe\">\n",
       "  <thead>\n",
       "    <tr style=\"text-align: right;\">\n",
       "      <th></th>\n",
       "      <th>hr</th>\n",
       "      <th>yr</th>\n",
       "      <th>dteday</th>\n",
       "      <th>mnth</th>\n",
       "    </tr>\n",
       "  </thead>\n",
       "  <tbody>\n",
       "    <tr>\n",
       "      <th>count</th>\n",
       "      <td>17544.000000</td>\n",
       "      <td>17544.000000</td>\n",
       "      <td>17544</td>\n",
       "      <td>17544.000000</td>\n",
       "    </tr>\n",
       "    <tr>\n",
       "      <th>unique</th>\n",
       "      <td>NaN</td>\n",
       "      <td>NaN</td>\n",
       "      <td>731</td>\n",
       "      <td>NaN</td>\n",
       "    </tr>\n",
       "    <tr>\n",
       "      <th>top</th>\n",
       "      <td>NaN</td>\n",
       "      <td>NaN</td>\n",
       "      <td>2011-01-01</td>\n",
       "      <td>NaN</td>\n",
       "    </tr>\n",
       "    <tr>\n",
       "      <th>freq</th>\n",
       "      <td>NaN</td>\n",
       "      <td>NaN</td>\n",
       "      <td>24</td>\n",
       "      <td>NaN</td>\n",
       "    </tr>\n",
       "    <tr>\n",
       "      <th>mean</th>\n",
       "      <td>11.500000</td>\n",
       "      <td>0.500684</td>\n",
       "      <td>NaN</td>\n",
       "      <td>6.519836</td>\n",
       "    </tr>\n",
       "    <tr>\n",
       "      <th>std</th>\n",
       "      <td>6.922384</td>\n",
       "      <td>0.500014</td>\n",
       "      <td>NaN</td>\n",
       "      <td>3.449649</td>\n",
       "    </tr>\n",
       "    <tr>\n",
       "      <th>min</th>\n",
       "      <td>0.000000</td>\n",
       "      <td>0.000000</td>\n",
       "      <td>NaN</td>\n",
       "      <td>1.000000</td>\n",
       "    </tr>\n",
       "    <tr>\n",
       "      <th>25%</th>\n",
       "      <td>5.750000</td>\n",
       "      <td>0.000000</td>\n",
       "      <td>NaN</td>\n",
       "      <td>4.000000</td>\n",
       "    </tr>\n",
       "    <tr>\n",
       "      <th>50%</th>\n",
       "      <td>11.500000</td>\n",
       "      <td>1.000000</td>\n",
       "      <td>NaN</td>\n",
       "      <td>7.000000</td>\n",
       "    </tr>\n",
       "    <tr>\n",
       "      <th>75%</th>\n",
       "      <td>17.250000</td>\n",
       "      <td>1.000000</td>\n",
       "      <td>NaN</td>\n",
       "      <td>10.000000</td>\n",
       "    </tr>\n",
       "    <tr>\n",
       "      <th>max</th>\n",
       "      <td>23.000000</td>\n",
       "      <td>1.000000</td>\n",
       "      <td>NaN</td>\n",
       "      <td>12.000000</td>\n",
       "    </tr>\n",
       "  </tbody>\n",
       "</table>\n",
       "</div>"
      ],
      "text/plain": [
       "                  hr            yr      dteday          mnth\n",
       "count   17544.000000  17544.000000       17544  17544.000000\n",
       "unique           NaN           NaN         731           NaN\n",
       "top              NaN           NaN  2011-01-01           NaN\n",
       "freq             NaN           NaN          24           NaN\n",
       "mean       11.500000      0.500684         NaN      6.519836\n",
       "std         6.922384      0.500014         NaN      3.449649\n",
       "min         0.000000      0.000000         NaN      1.000000\n",
       "25%         5.750000      0.000000         NaN      4.000000\n",
       "50%        11.500000      1.000000         NaN      7.000000\n",
       "75%        17.250000      1.000000         NaN     10.000000\n",
       "max        23.000000      1.000000         NaN     12.000000"
      ]
     },
     "execution_count": 54,
     "metadata": {},
     "output_type": "execute_result"
    }
   ],
   "source": [
    "# menambahkan baris-baris yang missing\n",
    "min_datetime = hour_df.datetime.min()\n",
    "max_datetime = hour_df.datetime.max()\n",
    "all_datetime = pd.date_range(min_datetime, max_datetime, freq='H')\n",
    "datetime_df = pd.DataFrame({'datetime':all_datetime})\n",
    "new_hour_df = pd.merge(datetime_df, hour_df, on='datetime', how='left')\n",
    "new_hour_df.sort_index(inplace=True)\n",
    "# mengatasi null pada kolom yang berkaitan dengan waktu\n",
    "fill_hr = lambda row: int(row['datetime'].hour) if pd.isnull(row['hr']) else int(row['hr'])\n",
    "fill_dteday = lambda row: row['datetime'].strftime('%Y-%m-%d') if pd.isnull(row['dteday']) else row['dteday']\n",
    "fill_month = lambda row: int(row['datetime'].month) if pd.isnull(row['mnth']) else int(row['mnth'])\n",
    "def fill_yr(row):\n",
    "    if pd.isnull(row['yr']):\n",
    "        yr = 0 if int(row['datetime'].year) == 2011 else 1\n",
    "        return yr\n",
    "    return int(row['yr'])\n",
    "\n",
    "new_hour_df.hr = new_hour_df.apply(fill_hr, axis=1)\n",
    "new_hour_df.dteday = new_hour_df.apply(fill_dteday, axis=1)\n",
    "new_hour_df.mnth = new_hour_df.apply(fill_month, axis=1)\n",
    "new_hour_df.yr = new_hour_df.apply(fill_yr, axis=1)\n",
    "\n",
    "new_hour_df.set_index('datetime',inplace=True)\n",
    "new_hour_df[['hr','yr','dteday','mnth',]].describe(include='all')"
   ]
  },
  {
   "cell_type": "markdown",
   "metadata": {
    "collapsed": false,
    "id": "FB-PmYIbuTXS"
   },
   "source": [
    "selanjutnya mengatasi null value pada kolom yang berkaitan pada hari tersebut"
   ]
  },
  {
   "cell_type": "code",
   "execution_count": 55,
   "metadata": {
    "ExecuteTime": {
     "end_time": "2023-07-06T05:10:08.613487700Z",
     "start_time": "2023-07-06T05:10:08.528594500Z"
    },
    "colab": {
     "base_uri": "https://localhost:8080/",
     "height": 1000
    },
    "id": "4Ek-ZPfpuTXS",
    "outputId": "d8d70f03-c5de-40e9-cbe4-1a3fc5cf862c"
   },
   "outputs": [
    {
     "data": {
      "text/html": [
       "<div>\n",
       "<style scoped>\n",
       "    .dataframe tbody tr th:only-of-type {\n",
       "        vertical-align: middle;\n",
       "    }\n",
       "\n",
       "    .dataframe tbody tr th {\n",
       "        vertical-align: top;\n",
       "    }\n",
       "\n",
       "    .dataframe thead th {\n",
       "        text-align: right;\n",
       "    }\n",
       "</style>\n",
       "<table border=\"1\" class=\"dataframe\">\n",
       "  <thead>\n",
       "    <tr style=\"text-align: right;\">\n",
       "      <th></th>\n",
       "      <th>season</th>\n",
       "      <th>holiday</th>\n",
       "      <th>weekday</th>\n",
       "      <th>workingday</th>\n",
       "      <th>weathersit</th>\n",
       "    </tr>\n",
       "  </thead>\n",
       "  <tbody>\n",
       "    <tr>\n",
       "      <th>count</th>\n",
       "      <td>17544.000000</td>\n",
       "      <td>17544.000000</td>\n",
       "      <td>17544.000000</td>\n",
       "      <td>17544.000000</td>\n",
       "      <td>17544.000000</td>\n",
       "    </tr>\n",
       "    <tr>\n",
       "      <th>mean</th>\n",
       "      <td>2.496580</td>\n",
       "      <td>0.029754</td>\n",
       "      <td>2.996979</td>\n",
       "      <td>0.682969</td>\n",
       "      <td>1.434223</td>\n",
       "    </tr>\n",
       "    <tr>\n",
       "      <th>std</th>\n",
       "      <td>1.110079</td>\n",
       "      <td>0.169912</td>\n",
       "      <td>2.004567</td>\n",
       "      <td>0.465333</td>\n",
       "      <td>0.648339</td>\n",
       "    </tr>\n",
       "    <tr>\n",
       "      <th>min</th>\n",
       "      <td>1.000000</td>\n",
       "      <td>0.000000</td>\n",
       "      <td>0.000000</td>\n",
       "      <td>0.000000</td>\n",
       "      <td>1.000000</td>\n",
       "    </tr>\n",
       "    <tr>\n",
       "      <th>25%</th>\n",
       "      <td>2.000000</td>\n",
       "      <td>0.000000</td>\n",
       "      <td>1.000000</td>\n",
       "      <td>0.000000</td>\n",
       "      <td>1.000000</td>\n",
       "    </tr>\n",
       "    <tr>\n",
       "      <th>50%</th>\n",
       "      <td>3.000000</td>\n",
       "      <td>0.000000</td>\n",
       "      <td>3.000000</td>\n",
       "      <td>1.000000</td>\n",
       "      <td>1.000000</td>\n",
       "    </tr>\n",
       "    <tr>\n",
       "      <th>75%</th>\n",
       "      <td>3.000000</td>\n",
       "      <td>0.000000</td>\n",
       "      <td>5.000000</td>\n",
       "      <td>1.000000</td>\n",
       "      <td>2.000000</td>\n",
       "    </tr>\n",
       "    <tr>\n",
       "      <th>max</th>\n",
       "      <td>4.000000</td>\n",
       "      <td>1.000000</td>\n",
       "      <td>6.000000</td>\n",
       "      <td>1.000000</td>\n",
       "      <td>4.000000</td>\n",
       "    </tr>\n",
       "  </tbody>\n",
       "</table>\n",
       "</div>"
      ],
      "text/plain": [
       "             season       holiday       weekday    workingday    weathersit\n",
       "count  17544.000000  17544.000000  17544.000000  17544.000000  17544.000000\n",
       "mean       2.496580      0.029754      2.996979      0.682969      1.434223\n",
       "std        1.110079      0.169912      2.004567      0.465333      0.648339\n",
       "min        1.000000      0.000000      0.000000      0.000000      1.000000\n",
       "25%        2.000000      0.000000      1.000000      0.000000      1.000000\n",
       "50%        3.000000      0.000000      3.000000      1.000000      1.000000\n",
       "75%        3.000000      0.000000      5.000000      1.000000      2.000000\n",
       "max        4.000000      1.000000      6.000000      1.000000      4.000000"
      ]
     },
     "execution_count": 55,
     "metadata": {},
     "output_type": "execute_result"
    }
   ],
   "source": [
    "new_hour_df.season.interpolate('pad', inplace=True)\n",
    "new_hour_df.holiday.interpolate('pad', inplace=True)\n",
    "new_hour_df.weekday.interpolate('pad', inplace=True)\n",
    "new_hour_df.workingday.interpolate('pad', inplace=True)\n",
    "new_hour_df.weathersit.interpolate('pad', inplace=True)\n",
    "\n",
    "new_hour_df.season = new_hour_df.season.astype(int)\n",
    "new_hour_df.holiday = new_hour_df.holiday.astype(int)\n",
    "new_hour_df.weekday = new_hour_df.weekday.astype(int)\n",
    "new_hour_df.workingday = new_hour_df.workingday.astype(int)\n",
    "new_hour_df.weathersit = new_hour_df.weathersit.astype(int)\n",
    "\n",
    "new_hour_df[['season','holiday','weekday','workingday','weathersit']].describe()"
   ]
  },
  {
   "cell_type": "markdown",
   "metadata": {
    "collapsed": false,
    "id": "c-_H7DWauTXT"
   },
   "source": [
    "mengiatasi null value pada sisa kolom kecuali 'instant'"
   ]
  },
  {
   "cell_type": "code",
   "execution_count": 56,
   "metadata": {
    "ExecuteTime": {
     "end_time": "2023-07-06T05:10:08.713892800Z",
     "start_time": "2023-07-06T05:10:08.576606Z"
    },
    "colab": {
     "base_uri": "https://localhost:8080/",
     "height": 1000
    },
    "id": "wZCbUr8nuTXT",
    "outputId": "e9c94b39-cf54-4ade-ba52-a08b9f6626d2"
   },
   "outputs": [
    {
     "data": {
      "text/html": [
       "<div>\n",
       "<style scoped>\n",
       "    .dataframe tbody tr th:only-of-type {\n",
       "        vertical-align: middle;\n",
       "    }\n",
       "\n",
       "    .dataframe tbody tr th {\n",
       "        vertical-align: top;\n",
       "    }\n",
       "\n",
       "    .dataframe thead th {\n",
       "        text-align: right;\n",
       "    }\n",
       "</style>\n",
       "<table border=\"1\" class=\"dataframe\">\n",
       "  <thead>\n",
       "    <tr style=\"text-align: right;\">\n",
       "      <th></th>\n",
       "      <th>temp</th>\n",
       "      <th>atemp</th>\n",
       "      <th>hum</th>\n",
       "      <th>windspeed</th>\n",
       "      <th>casual</th>\n",
       "      <th>registered</th>\n",
       "      <th>cnt</th>\n",
       "    </tr>\n",
       "  </thead>\n",
       "  <tbody>\n",
       "    <tr>\n",
       "      <th>count</th>\n",
       "      <td>17544.000000</td>\n",
       "      <td>17544.000000</td>\n",
       "      <td>17544.000000</td>\n",
       "      <td>17544.000000</td>\n",
       "      <td>17544.000000</td>\n",
       "      <td>17544.000000</td>\n",
       "      <td>17544.000000</td>\n",
       "    </tr>\n",
       "    <tr>\n",
       "      <th>mean</th>\n",
       "      <td>0.495044</td>\n",
       "      <td>0.473957</td>\n",
       "      <td>0.628428</td>\n",
       "      <td>0.190965</td>\n",
       "      <td>35.355506</td>\n",
       "      <td>152.524624</td>\n",
       "      <td>187.882752</td>\n",
       "    </tr>\n",
       "    <tr>\n",
       "      <th>std</th>\n",
       "      <td>0.193192</td>\n",
       "      <td>0.172519</td>\n",
       "      <td>0.193041</td>\n",
       "      <td>0.122900</td>\n",
       "      <td>49.183638</td>\n",
       "      <td>151.221298</td>\n",
       "      <td>181.281523</td>\n",
       "    </tr>\n",
       "    <tr>\n",
       "      <th>min</th>\n",
       "      <td>0.020000</td>\n",
       "      <td>0.000000</td>\n",
       "      <td>0.000000</td>\n",
       "      <td>0.000000</td>\n",
       "      <td>0.000000</td>\n",
       "      <td>0.000000</td>\n",
       "      <td>1.000000</td>\n",
       "    </tr>\n",
       "    <tr>\n",
       "      <th>25%</th>\n",
       "      <td>0.340000</td>\n",
       "      <td>0.333300</td>\n",
       "      <td>0.480000</td>\n",
       "      <td>0.104500</td>\n",
       "      <td>4.000000</td>\n",
       "      <td>33.000000</td>\n",
       "      <td>38.000000</td>\n",
       "    </tr>\n",
       "    <tr>\n",
       "      <th>50%</th>\n",
       "      <td>0.500000</td>\n",
       "      <td>0.484800</td>\n",
       "      <td>0.630000</td>\n",
       "      <td>0.194000</td>\n",
       "      <td>16.000000</td>\n",
       "      <td>114.000000</td>\n",
       "      <td>140.000000</td>\n",
       "    </tr>\n",
       "    <tr>\n",
       "      <th>75%</th>\n",
       "      <td>0.660000</td>\n",
       "      <td>0.621200</td>\n",
       "      <td>0.790000</td>\n",
       "      <td>0.253700</td>\n",
       "      <td>48.000000</td>\n",
       "      <td>219.000000</td>\n",
       "      <td>279.000000</td>\n",
       "    </tr>\n",
       "    <tr>\n",
       "      <th>max</th>\n",
       "      <td>1.000000</td>\n",
       "      <td>1.000000</td>\n",
       "      <td>1.000000</td>\n",
       "      <td>0.850700</td>\n",
       "      <td>367.000000</td>\n",
       "      <td>886.000000</td>\n",
       "      <td>977.000000</td>\n",
       "    </tr>\n",
       "  </tbody>\n",
       "</table>\n",
       "</div>"
      ],
      "text/plain": [
       "               temp         atemp           hum     windspeed        casual  \\\n",
       "count  17544.000000  17544.000000  17544.000000  17544.000000  17544.000000   \n",
       "mean       0.495044      0.473957      0.628428      0.190965     35.355506   \n",
       "std        0.193192      0.172519      0.193041      0.122900     49.183638   \n",
       "min        0.020000      0.000000      0.000000      0.000000      0.000000   \n",
       "25%        0.340000      0.333300      0.480000      0.104500      4.000000   \n",
       "50%        0.500000      0.484800      0.630000      0.194000     16.000000   \n",
       "75%        0.660000      0.621200      0.790000      0.253700     48.000000   \n",
       "max        1.000000      1.000000      1.000000      0.850700    367.000000   \n",
       "\n",
       "         registered           cnt  \n",
       "count  17544.000000  17544.000000  \n",
       "mean     152.524624    187.882752  \n",
       "std      151.221298    181.281523  \n",
       "min        0.000000      1.000000  \n",
       "25%       33.000000     38.000000  \n",
       "50%      114.000000    140.000000  \n",
       "75%      219.000000    279.000000  \n",
       "max      886.000000    977.000000  "
      ]
     },
     "execution_count": 56,
     "metadata": {},
     "output_type": "execute_result"
    }
   ],
   "source": [
    "new_hour_df.temp.interpolate('time', direction='forward', inplace=True)\n",
    "new_hour_df.atemp.interpolate('time', direction='forward', inplace=True)\n",
    "new_hour_df.hum.interpolate('time', direction='forward', inplace=True)\n",
    "new_hour_df.windspeed.interpolate('time', direction='forward', inplace=True)\n",
    "new_hour_df.casual.interpolate('time', direction='forward', inplace=True)\n",
    "new_hour_df.registered.interpolate('time', direction='forward', inplace=True)\n",
    "new_hour_df.cnt.interpolate('time', direction='forward', inplace=True)\n",
    "\n",
    "new_hour_df.casual = new_hour_df.casual.astype(int)\n",
    "new_hour_df.registered = new_hour_df.registered.astype(int)\n",
    "new_hour_df.cnt = new_hour_df.cnt.astype(int)\n",
    "\n",
    "new_hour_df[['temp','atemp','hum','windspeed','casual','registered','cnt']].describe()"
   ]
  },
  {
   "cell_type": "code",
   "execution_count": 57,
   "metadata": {
    "ExecuteTime": {
     "end_time": "2023-07-06T05:10:08.778293300Z",
     "start_time": "2023-07-06T05:10:08.639949900Z"
    },
    "colab": {
     "base_uri": "https://localhost:8080/",
     "height": 617
    },
    "id": "L82enpq4uTXT",
    "outputId": "7093974e-a3c1-4e1e-f24f-7c0908d1f941"
   },
   "outputs": [
    {
     "data": {
      "text/plain": [
       "instant       165\n",
       "dteday          0\n",
       "season          0\n",
       "yr              0\n",
       "mnth            0\n",
       "hr              0\n",
       "holiday         0\n",
       "weekday         0\n",
       "workingday      0\n",
       "weathersit      0\n",
       "temp            0\n",
       "atemp           0\n",
       "hum             0\n",
       "windspeed       0\n",
       "casual          0\n",
       "registered      0\n",
       "cnt             0\n",
       "dtype: int64"
      ]
     },
     "execution_count": 57,
     "metadata": {},
     "output_type": "execute_result"
    }
   ],
   "source": [
    "new_hour_df.isna().sum()"
   ]
  },
  {
   "cell_type": "code",
   "execution_count": 58,
   "metadata": {
    "ExecuteTime": {
     "end_time": "2023-07-06T05:10:08.779303600Z",
     "start_time": "2023-07-06T05:10:08.668784500Z"
    },
    "colab": {
     "base_uri": "https://localhost:8080/"
    },
    "id": "Cmv3ktSaxSjk",
    "outputId": "dfb4015e-649d-4a20-f19b-861e2af22134"
   },
   "outputs": [
    {
     "data": {
      "text/plain": [
       "0"
      ]
     },
     "execution_count": 58,
     "metadata": {},
     "output_type": "execute_result"
    }
   ],
   "source": [
    "new_hour_df.duplicated().sum()"
   ]
  },
  {
   "cell_type": "code",
   "execution_count": 59,
   "metadata": {
    "ExecuteTime": {
     "end_time": "2023-07-06T05:10:08.911933900Z",
     "start_time": "2023-07-06T05:10:08.705777900Z"
    },
    "colab": {
     "base_uri": "https://localhost:8080/",
     "height": 363
    },
    "id": "h9uTHygfuTXT",
    "outputId": "47a966dc-6fe0-4081-a3d9-a60245155f7b"
   },
   "outputs": [
    {
     "data": {
      "text/html": [
       "<div>\n",
       "<style scoped>\n",
       "    .dataframe tbody tr th:only-of-type {\n",
       "        vertical-align: middle;\n",
       "    }\n",
       "\n",
       "    .dataframe tbody tr th {\n",
       "        vertical-align: top;\n",
       "    }\n",
       "\n",
       "    .dataframe thead th {\n",
       "        text-align: right;\n",
       "    }\n",
       "</style>\n",
       "<table border=\"1\" class=\"dataframe\">\n",
       "  <thead>\n",
       "    <tr style=\"text-align: right;\">\n",
       "      <th></th>\n",
       "      <th>instant</th>\n",
       "      <th>dteday</th>\n",
       "      <th>season</th>\n",
       "      <th>yr</th>\n",
       "      <th>mnth</th>\n",
       "      <th>hr</th>\n",
       "      <th>holiday</th>\n",
       "      <th>weekday</th>\n",
       "      <th>workingday</th>\n",
       "      <th>weathersit</th>\n",
       "      <th>temp</th>\n",
       "      <th>atemp</th>\n",
       "      <th>hum</th>\n",
       "      <th>windspeed</th>\n",
       "      <th>casual</th>\n",
       "      <th>registered</th>\n",
       "      <th>cnt</th>\n",
       "    </tr>\n",
       "  </thead>\n",
       "  <tbody>\n",
       "    <tr>\n",
       "      <th>16954</th>\n",
       "      <td>16955</td>\n",
       "      <td>2012-12-07</td>\n",
       "      <td>4</td>\n",
       "      <td>1</td>\n",
       "      <td>12</td>\n",
       "      <td>10</td>\n",
       "      <td>0</td>\n",
       "      <td>5</td>\n",
       "      <td>1</td>\n",
       "      <td>2</td>\n",
       "      <td>0.32</td>\n",
       "      <td>0.3182</td>\n",
       "      <td>0.76</td>\n",
       "      <td>0.1642</td>\n",
       "      <td>16</td>\n",
       "      <td>150</td>\n",
       "      <td>166</td>\n",
       "    </tr>\n",
       "    <tr>\n",
       "      <th>8275</th>\n",
       "      <td>8276</td>\n",
       "      <td>2011-12-11</td>\n",
       "      <td>4</td>\n",
       "      <td>0</td>\n",
       "      <td>12</td>\n",
       "      <td>19</td>\n",
       "      <td>0</td>\n",
       "      <td>0</td>\n",
       "      <td>0</td>\n",
       "      <td>1</td>\n",
       "      <td>0.22</td>\n",
       "      <td>0.2273</td>\n",
       "      <td>0.55</td>\n",
       "      <td>0.1940</td>\n",
       "      <td>7</td>\n",
       "      <td>98</td>\n",
       "      <td>105</td>\n",
       "    </tr>\n",
       "    <tr>\n",
       "      <th>17021</th>\n",
       "      <td>17022</td>\n",
       "      <td>2012-12-10</td>\n",
       "      <td>4</td>\n",
       "      <td>1</td>\n",
       "      <td>12</td>\n",
       "      <td>5</td>\n",
       "      <td>0</td>\n",
       "      <td>1</td>\n",
       "      <td>1</td>\n",
       "      <td>2</td>\n",
       "      <td>0.38</td>\n",
       "      <td>0.3939</td>\n",
       "      <td>0.94</td>\n",
       "      <td>0.1045</td>\n",
       "      <td>0</td>\n",
       "      <td>27</td>\n",
       "      <td>27</td>\n",
       "    </tr>\n",
       "    <tr>\n",
       "      <th>14444</th>\n",
       "      <td>14445</td>\n",
       "      <td>2012-08-24</td>\n",
       "      <td>3</td>\n",
       "      <td>1</td>\n",
       "      <td>8</td>\n",
       "      <td>20</td>\n",
       "      <td>0</td>\n",
       "      <td>5</td>\n",
       "      <td>1</td>\n",
       "      <td>2</td>\n",
       "      <td>0.70</td>\n",
       "      <td>0.6515</td>\n",
       "      <td>0.65</td>\n",
       "      <td>0.2239</td>\n",
       "      <td>66</td>\n",
       "      <td>297</td>\n",
       "      <td>363</td>\n",
       "    </tr>\n",
       "    <tr>\n",
       "      <th>10739</th>\n",
       "      <td>10740</td>\n",
       "      <td>2012-03-23</td>\n",
       "      <td>2</td>\n",
       "      <td>1</td>\n",
       "      <td>3</td>\n",
       "      <td>11</td>\n",
       "      <td>0</td>\n",
       "      <td>5</td>\n",
       "      <td>1</td>\n",
       "      <td>2</td>\n",
       "      <td>0.62</td>\n",
       "      <td>0.5909</td>\n",
       "      <td>0.73</td>\n",
       "      <td>0.1045</td>\n",
       "      <td>131</td>\n",
       "      <td>187</td>\n",
       "      <td>318</td>\n",
       "    </tr>\n",
       "    <tr>\n",
       "      <th>1585</th>\n",
       "      <td>1586</td>\n",
       "      <td>2011-03-08</td>\n",
       "      <td>1</td>\n",
       "      <td>0</td>\n",
       "      <td>3</td>\n",
       "      <td>1</td>\n",
       "      <td>0</td>\n",
       "      <td>2</td>\n",
       "      <td>1</td>\n",
       "      <td>1</td>\n",
       "      <td>0.24</td>\n",
       "      <td>0.2424</td>\n",
       "      <td>0.52</td>\n",
       "      <td>0.1343</td>\n",
       "      <td>0</td>\n",
       "      <td>4</td>\n",
       "      <td>4</td>\n",
       "    </tr>\n",
       "    <tr>\n",
       "      <th>111</th>\n",
       "      <td>112</td>\n",
       "      <td>2011-01-05</td>\n",
       "      <td>1</td>\n",
       "      <td>0</td>\n",
       "      <td>1</td>\n",
       "      <td>15</td>\n",
       "      <td>0</td>\n",
       "      <td>3</td>\n",
       "      <td>1</td>\n",
       "      <td>1</td>\n",
       "      <td>0.30</td>\n",
       "      <td>0.2879</td>\n",
       "      <td>0.28</td>\n",
       "      <td>0.1940</td>\n",
       "      <td>7</td>\n",
       "      <td>55</td>\n",
       "      <td>62</td>\n",
       "    </tr>\n",
       "    <tr>\n",
       "      <th>4096</th>\n",
       "      <td>4097</td>\n",
       "      <td>2011-06-20</td>\n",
       "      <td>2</td>\n",
       "      <td>0</td>\n",
       "      <td>6</td>\n",
       "      <td>16</td>\n",
       "      <td>0</td>\n",
       "      <td>1</td>\n",
       "      <td>1</td>\n",
       "      <td>1</td>\n",
       "      <td>0.70</td>\n",
       "      <td>0.6515</td>\n",
       "      <td>0.58</td>\n",
       "      <td>0.1642</td>\n",
       "      <td>61</td>\n",
       "      <td>238</td>\n",
       "      <td>299</td>\n",
       "    </tr>\n",
       "    <tr>\n",
       "      <th>2875</th>\n",
       "      <td>2876</td>\n",
       "      <td>2011-04-30</td>\n",
       "      <td>2</td>\n",
       "      <td>0</td>\n",
       "      <td>4</td>\n",
       "      <td>19</td>\n",
       "      <td>0</td>\n",
       "      <td>6</td>\n",
       "      <td>0</td>\n",
       "      <td>1</td>\n",
       "      <td>0.54</td>\n",
       "      <td>0.5152</td>\n",
       "      <td>0.43</td>\n",
       "      <td>0.1343</td>\n",
       "      <td>150</td>\n",
       "      <td>237</td>\n",
       "      <td>387</td>\n",
       "    </tr>\n",
       "    <tr>\n",
       "      <th>9126</th>\n",
       "      <td>9127</td>\n",
       "      <td>2012-01-16</td>\n",
       "      <td>1</td>\n",
       "      <td>1</td>\n",
       "      <td>1</td>\n",
       "      <td>6</td>\n",
       "      <td>1</td>\n",
       "      <td>1</td>\n",
       "      <td>0</td>\n",
       "      <td>1</td>\n",
       "      <td>0.10</td>\n",
       "      <td>0.1364</td>\n",
       "      <td>0.54</td>\n",
       "      <td>0.0896</td>\n",
       "      <td>0</td>\n",
       "      <td>13</td>\n",
       "      <td>13</td>\n",
       "    </tr>\n",
       "  </tbody>\n",
       "</table>\n",
       "</div>"
      ],
      "text/plain": [
       "       instant      dteday  season  yr  mnth  hr  holiday  weekday  \\\n",
       "16954    16955  2012-12-07       4   1    12  10        0        5   \n",
       "8275      8276  2011-12-11       4   0    12  19        0        0   \n",
       "17021    17022  2012-12-10       4   1    12   5        0        1   \n",
       "14444    14445  2012-08-24       3   1     8  20        0        5   \n",
       "10739    10740  2012-03-23       2   1     3  11        0        5   \n",
       "1585      1586  2011-03-08       1   0     3   1        0        2   \n",
       "111        112  2011-01-05       1   0     1  15        0        3   \n",
       "4096      4097  2011-06-20       2   0     6  16        0        1   \n",
       "2875      2876  2011-04-30       2   0     4  19        0        6   \n",
       "9126      9127  2012-01-16       1   1     1   6        1        1   \n",
       "\n",
       "       workingday  weathersit  temp   atemp   hum  windspeed  casual  \\\n",
       "16954           1           2  0.32  0.3182  0.76     0.1642      16   \n",
       "8275            0           1  0.22  0.2273  0.55     0.1940       7   \n",
       "17021           1           2  0.38  0.3939  0.94     0.1045       0   \n",
       "14444           1           2  0.70  0.6515  0.65     0.2239      66   \n",
       "10739           1           2  0.62  0.5909  0.73     0.1045     131   \n",
       "1585            1           1  0.24  0.2424  0.52     0.1343       0   \n",
       "111             1           1  0.30  0.2879  0.28     0.1940       7   \n",
       "4096            1           1  0.70  0.6515  0.58     0.1642      61   \n",
       "2875            0           1  0.54  0.5152  0.43     0.1343     150   \n",
       "9126            0           1  0.10  0.1364  0.54     0.0896       0   \n",
       "\n",
       "       registered  cnt  \n",
       "16954         150  166  \n",
       "8275           98  105  \n",
       "17021          27   27  \n",
       "14444         297  363  \n",
       "10739         187  318  \n",
       "1585            4    4  \n",
       "111            55   62  \n",
       "4096          238  299  \n",
       "2875          237  387  \n",
       "9126           13   13  "
      ]
     },
     "execution_count": 59,
     "metadata": {},
     "output_type": "execute_result"
    }
   ],
   "source": [
    "new_hour_df.reset_index(inplace=True)\n",
    "new_hour_df.drop('datetime', axis=1, inplace=True)\n",
    "new_hour_df['instant'] = np.arange(len(new_hour_df)) + 1\n",
    "new_hour_df.sample(10)"
   ]
  },
  {
   "cell_type": "code",
   "execution_count": 60,
   "metadata": {
    "ExecuteTime": {
     "end_time": "2023-07-06T05:10:08.937851400Z",
     "start_time": "2023-07-06T05:10:08.747873800Z"
    },
    "colab": {
     "base_uri": "https://localhost:8080/"
    },
    "id": "Zwu6m5uoxjN3",
    "outputId": "c7318040-abd6-4d79-d3a1-ffc06fe35104"
   },
   "outputs": [
    {
     "name": "stdout",
     "output_type": "stream",
     "text": [
      "<class 'pandas.core.frame.DataFrame'>\n",
      "RangeIndex: 17544 entries, 0 to 17543\n",
      "Data columns (total 17 columns):\n",
      " #   Column      Non-Null Count  Dtype  \n",
      "---  ------      --------------  -----  \n",
      " 0   instant     17544 non-null  int32  \n",
      " 1   dteday      17544 non-null  object \n",
      " 2   season      17544 non-null  int32  \n",
      " 3   yr          17544 non-null  int64  \n",
      " 4   mnth        17544 non-null  int64  \n",
      " 5   hr          17544 non-null  int64  \n",
      " 6   holiday     17544 non-null  int32  \n",
      " 7   weekday     17544 non-null  int32  \n",
      " 8   workingday  17544 non-null  int32  \n",
      " 9   weathersit  17544 non-null  int32  \n",
      " 10  temp        17544 non-null  float64\n",
      " 11  atemp       17544 non-null  float64\n",
      " 12  hum         17544 non-null  float64\n",
      " 13  windspeed   17544 non-null  float64\n",
      " 14  casual      17544 non-null  int32  \n",
      " 15  registered  17544 non-null  int32  \n",
      " 16  cnt         17544 non-null  int32  \n",
      "dtypes: float64(4), int32(9), int64(3), object(1)\n",
      "memory usage: 1.7+ MB\n"
     ]
    }
   ],
   "source": [
    "new_hour_df.info()"
   ]
  },
  {
   "cell_type": "code",
   "execution_count": 61,
   "metadata": {
    "ExecuteTime": {
     "end_time": "2023-07-06T05:10:09.106167700Z",
     "start_time": "2023-07-06T05:10:08.776852600Z"
    },
    "id": "seACL9EauTXT"
   },
   "outputs": [],
   "source": [
    "new_day_df = new_hour_df.groupby(by='dteday').agg({\n",
    "                'season':'mean',\n",
    "                'yr':'mean',\n",
    "                'mnth':'mean',\n",
    "                'holiday':'mean',\n",
    "                'weekday':'mean',\n",
    "                'workingday':'mean',\n",
    "                'weathersit':'mean',\n",
    "                'temp':'mean',\n",
    "                'atemp':'mean',\n",
    "                'hum':'mean',\n",
    "                'windspeed':'mean',\n",
    "                'casual':'sum',\n",
    "                'registered':'sum',\n",
    "                'cnt':'sum',\n",
    "            }).reset_index()\n",
    "new_day_df.reset_index(inplace=True)"
   ]
  },
  {
   "cell_type": "code",
   "execution_count": 62,
   "metadata": {
    "ExecuteTime": {
     "end_time": "2023-07-06T05:10:09.177734200Z",
     "start_time": "2023-07-06T05:10:08.811723900Z"
    },
    "colab": {
     "base_uri": "https://localhost:8080/"
    },
    "id": "YVwBRT6kuTXT",
    "outputId": "efe8ab19-cfad-4eb3-c06f-ca0f0e078ad7"
   },
   "outputs": [
    {
     "name": "stdout",
     "output_type": "stream",
     "text": [
      "<class 'pandas.core.frame.DataFrame'>\n",
      "RangeIndex: 731 entries, 0 to 730\n",
      "Data columns (total 16 columns):\n",
      " #   Column      Non-Null Count  Dtype  \n",
      "---  ------      --------------  -----  \n",
      " 0   index       731 non-null    int64  \n",
      " 1   dteday      731 non-null    object \n",
      " 2   season      731 non-null    int32  \n",
      " 3   yr          731 non-null    int32  \n",
      " 4   mnth        731 non-null    int32  \n",
      " 5   holiday     731 non-null    int32  \n",
      " 6   weekday     731 non-null    int32  \n",
      " 7   workingday  731 non-null    int32  \n",
      " 8   weathersit  731 non-null    float64\n",
      " 9   temp        731 non-null    float64\n",
      " 10  atemp       731 non-null    float64\n",
      " 11  hum         731 non-null    float64\n",
      " 12  windspeed   731 non-null    float64\n",
      " 13  casual      731 non-null    int32  \n",
      " 14  registered  731 non-null    int32  \n",
      " 15  cnt         731 non-null    int32  \n",
      "dtypes: float64(5), int32(9), int64(1), object(1)\n",
      "memory usage: 65.8+ KB\n"
     ]
    }
   ],
   "source": [
    "new_day_df.season = new_day_df.season.astype(int)\n",
    "new_day_df.yr = new_day_df.yr.astype(int)\n",
    "new_day_df.mnth = new_day_df.mnth.astype(int)\n",
    "new_day_df.holiday = new_day_df.holiday.astype(int)\n",
    "new_day_df.weekday = new_day_df.weekday.astype(int)\n",
    "new_day_df.workingday = new_day_df.workingday.astype(int)\n",
    "\n",
    "new_day_df.info()"
   ]
  },
  {
   "cell_type": "markdown",
   "metadata": {
    "id": "b3BCIGsQdfSH"
   },
   "source": [
    "## Exploratory Data Analysis"
   ]
  },
  {
   "cell_type": "markdown",
   "metadata": {
    "id": "Pt5RwLKjF9oc"
   },
   "source": [
    "Pertama saya ingin mengetahui korelasi antara setiap parameter dengan banyaknya pengguna sepeda pada suatu hari"
   ]
  },
  {
   "cell_type": "code",
   "execution_count": 63,
   "metadata": {
    "ExecuteTime": {
     "end_time": "2023-07-06T05:10:09.274039900Z",
     "start_time": "2023-07-06T05:10:08.844489600Z"
    },
    "colab": {
     "base_uri": "https://localhost:8080/",
     "height": 366
    },
    "id": "fhawN_AoEF5F",
    "outputId": "18d26c1a-f361-4f61-cfad-256d2550f526"
   },
   "outputs": [
    {
     "data": {
      "text/plain": [
       "mnth          0.282061\n",
       "holiday      -0.068979\n",
       "weekday       0.070836\n",
       "workingday    0.072996\n",
       "weathersit   -0.360776\n",
       "temp          0.629591\n",
       "atemp         0.633822\n",
       "hum          -0.101438\n",
       "windspeed    -0.241590\n",
       "dtype: float64"
      ]
     },
     "execution_count": 63,
     "metadata": {},
     "output_type": "execute_result"
    }
   ],
   "source": [
    "parameters = [\"mnth\",\"holiday\",\"weekday\",\"workingday\",\"weathersit\",\"temp\",\"atemp\",\"hum\",\"windspeed\"]\n",
    "new_day_df.loc[:,parameters].corrwith(new_day_df.cnt)"
   ]
  },
  {
   "cell_type": "markdown",
   "metadata": {
    "id": "d98DftBhGVq6"
   },
   "source": [
    "Berdasarkan informasi di atas, kita dapat mengetahui beberapa hal\n",
    "* Suhu, `temp & atemp` memiliki korelasi positif yang tinggi.Ini berarti para pengguna cenderung bersepeda saat suhu di luar sedang hangat.\n",
    "* Bulan atau `mnth` memilik korelasi positif tetapi tidak terlalu signifikat.\n",
    "* Agak diluar dugaan bahwa hari tidak memiliki korelasi signifikat terhadap jumlah pengguna sepeda, `holiday, weekday, workingday` memiliki korelasi mendekati 0.\n",
    "* `weathersit, hum , windspeed` memiliki korelasi negatif yang tidak terlalu signifikat.\n",
    "\n",
    "Tetapi ini adalah hasil korelasi terhadap `cnt` yang mana merupakan gabungan antara dua tipe pengguna. Selanjutnya saya akan melihat korelasi setiap parameter terhadap kedua tipe pengguna."
   ]
  },
  {
   "cell_type": "code",
   "execution_count": 64,
   "metadata": {
    "ExecuteTime": {
     "end_time": "2023-07-06T05:10:09.317044900Z",
     "start_time": "2023-07-06T05:10:08.985998700Z"
    },
    "colab": {
     "base_uri": "https://localhost:8080/",
     "height": 366
    },
    "id": "CJqFtpiUFmlj",
    "outputId": "2503d092-b8c0-4136-d54a-6e028662c093"
   },
   "outputs": [
    {
     "data": {
      "text/plain": [
       "mnth          0.123443\n",
       "holiday       0.054223\n",
       "weekday       0.063192\n",
       "workingday   -0.509955\n",
       "weathersit   -0.313362\n",
       "temp          0.543846\n",
       "atemp         0.544716\n",
       "hum          -0.077970\n",
       "windspeed    -0.171251\n",
       "dtype: float64"
      ]
     },
     "execution_count": 64,
     "metadata": {},
     "output_type": "execute_result"
    }
   ],
   "source": [
    "new_day_df.loc[:,parameters].corrwith(new_day_df.casual)"
   ]
  },
  {
   "cell_type": "markdown",
   "metadata": {
    "id": "c8MP6-j2KN_8"
   },
   "source": [
    "Berdasarkan informasi diatas ,kita dapat mengetahui beberapa hal\n",
    "* Suhu masih tetap menjadi faktor penting bagi pengguna kasual\n",
    "* `workingday` atau hari kerja memiliki korelasi negatif yang signifikat. Ini berarti para pengguna kasual lebih menyukai bersepeda disaat weekend atau hari libur. Tetapi anehnya `holiday` tidak memiliki korelasi yang signifikat, apakah pengguna kasual lebih cenderung bersepeda di hari weekend ?\n",
    "* parameter `weathersit, hum , windspeed` masih memiliki korelasi yang kurang signifikat\n",
    "\n",
    "untuk menjawab pertanyaan tersebut saya akan memodifikasi kolom `weekday` dengan membuat standar hari mulai dari hari senin = 1 - minggu = 7."
   ]
  },
  {
   "cell_type": "code",
   "execution_count": 65,
   "metadata": {
    "ExecuteTime": {
     "end_time": "2023-07-06T05:10:09.398308Z",
     "start_time": "2023-07-06T05:10:09.018235200Z"
    },
    "colab": {
     "base_uri": "https://localhost:8080/",
     "height": 508
    },
    "id": "63LGirXyMSll",
    "outputId": "0c825844-719d-4161-9fcd-f2981735462b"
   },
   "outputs": [
    {
     "data": {
      "text/plain": [
       "mnth          0.123443\n",
       "holiday       0.054223\n",
       "weekday       0.416689\n",
       "workingday   -0.509955\n",
       "weathersit   -0.313362\n",
       "temp          0.543846\n",
       "atemp         0.544716\n",
       "hum          -0.077970\n",
       "windspeed    -0.171251\n",
       "dtype: float64"
      ]
     },
     "execution_count": 65,
     "metadata": {},
     "output_type": "execute_result"
    }
   ],
   "source": [
    "new_day_df.weekday.mask(new_day_df.weekday==0,7, inplace=True)\n",
    "new_day_df.loc[:,parameters].corrwith(new_day_df.casual)"
   ]
  },
  {
   "cell_type": "markdown",
   "metadata": {
    "id": "wSujtOxbNoGv"
   },
   "source": [
    "dan benar, weekday memiliki korelasi positif yang cukup signifikat."
   ]
  },
  {
   "cell_type": "markdown",
   "metadata": {
    "id": "iJleKTxuPFjf"
   },
   "source": [
    "selanjutnya kita akan melihat korelasi masing-masing parameter terhadap pengguna tipe \"registered\""
   ]
  },
  {
   "cell_type": "code",
   "execution_count": 66,
   "metadata": {
    "ExecuteTime": {
     "end_time": "2023-07-06T05:10:09.399319600Z",
     "start_time": "2023-07-06T05:10:09.053091100Z"
    },
    "colab": {
     "base_uri": "https://localhost:8080/",
     "height": 366
    },
    "id": "DE8UshOGFwiK",
    "outputId": "72b4535b-b5fa-42e4-edc5-4d1dd621d53c"
   },
   "outputs": [
    {
     "data": {
      "text/plain": [
       "mnth          0.295817\n",
       "holiday      -0.109637\n",
       "weekday      -0.185824\n",
       "workingday    0.316008\n",
       "weathersit   -0.309757\n",
       "temp          0.541759\n",
       "atemp         0.546632\n",
       "hum          -0.091576\n",
       "windspeed    -0.224469\n",
       "dtype: float64"
      ]
     },
     "execution_count": 66,
     "metadata": {},
     "output_type": "execute_result"
    }
   ],
   "source": [
    "new_day_df.loc[:,parameters].corrwith(new_day_df.registered)"
   ]
  },
  {
   "cell_type": "markdown",
   "metadata": {
    "id": "mJbuimulPdWR"
   },
   "source": [
    "Berdasarkan informasi diatas ,kita dapat mengetahui beberapa hal. Suhu tentunya masih merupakan faktor penting bagi pengguna tipe \"registered\". Tapi terdapat sedikit perbedaan terhadap pengguna kasual, pengguna tipe \"registered\" cenderung lebih sering menggunakan sepeda pada hari kerja. Mungkin karena pengguna tipe ini menggunakan sepeda untuk sarana transportasi mereka saat bekerja ? kita tidak dapat mengetahui pastinya."
   ]
  },
  {
   "cell_type": "markdown",
   "metadata": {
    "id": "ah0AzviPTF83"
   },
   "source": [
    "selanjutnya saya ingin melihat di jam-jam berapa pengguna cenderung bersepeda"
   ]
  },
  {
   "cell_type": "code",
   "execution_count": 67,
   "metadata": {
    "ExecuteTime": {
     "end_time": "2023-07-06T05:10:09.400324200Z",
     "start_time": "2023-07-06T05:10:09.081279600Z"
    },
    "colab": {
     "base_uri": "https://localhost:8080/",
     "height": 833
    },
    "id": "B00mlFjdREGI",
    "outputId": "de59636c-ba20-48c4-e9e7-a5074cda0777"
   },
   "outputs": [
    {
     "data": {
      "text/html": [
       "<div>\n",
       "<style scoped>\n",
       "    .dataframe tbody tr th:only-of-type {\n",
       "        vertical-align: middle;\n",
       "    }\n",
       "\n",
       "    .dataframe tbody tr th {\n",
       "        vertical-align: top;\n",
       "    }\n",
       "\n",
       "    .dataframe thead th {\n",
       "        text-align: right;\n",
       "    }\n",
       "</style>\n",
       "<table border=\"1\" class=\"dataframe\">\n",
       "  <thead>\n",
       "    <tr style=\"text-align: right;\">\n",
       "      <th></th>\n",
       "      <th>casual</th>\n",
       "      <th>registered</th>\n",
       "      <th>cnt</th>\n",
       "    </tr>\n",
       "    <tr>\n",
       "      <th>hr</th>\n",
       "      <th></th>\n",
       "      <th></th>\n",
       "      <th></th>\n",
       "    </tr>\n",
       "  </thead>\n",
       "  <tbody>\n",
       "    <tr>\n",
       "      <th>17</th>\n",
       "      <td>54226</td>\n",
       "      <td>282699</td>\n",
       "      <td>336925</td>\n",
       "    </tr>\n",
       "    <tr>\n",
       "      <th>18</th>\n",
       "      <td>44503</td>\n",
       "      <td>265375</td>\n",
       "      <td>309878</td>\n",
       "    </tr>\n",
       "    <tr>\n",
       "      <th>8</th>\n",
       "      <td>15773</td>\n",
       "      <td>245398</td>\n",
       "      <td>261173</td>\n",
       "    </tr>\n",
       "    <tr>\n",
       "      <th>16</th>\n",
       "      <td>53839</td>\n",
       "      <td>173970</td>\n",
       "      <td>227810</td>\n",
       "    </tr>\n",
       "    <tr>\n",
       "      <th>19</th>\n",
       "      <td>35512</td>\n",
       "      <td>191384</td>\n",
       "      <td>226897</td>\n",
       "    </tr>\n",
       "    <tr>\n",
       "      <th>13</th>\n",
       "      <td>52718</td>\n",
       "      <td>132278</td>\n",
       "      <td>184998</td>\n",
       "    </tr>\n",
       "    <tr>\n",
       "      <th>12</th>\n",
       "      <td>49732</td>\n",
       "      <td>134868</td>\n",
       "      <td>184603</td>\n",
       "    </tr>\n",
       "    <tr>\n",
       "      <th>15</th>\n",
       "      <td>54611</td>\n",
       "      <td>128620</td>\n",
       "      <td>183233</td>\n",
       "    </tr>\n",
       "    <tr>\n",
       "      <th>14</th>\n",
       "      <td>55094</td>\n",
       "      <td>120638</td>\n",
       "      <td>175733</td>\n",
       "    </tr>\n",
       "    <tr>\n",
       "      <th>20</th>\n",
       "      <td>26385</td>\n",
       "      <td>138273</td>\n",
       "      <td>164659</td>\n",
       "    </tr>\n",
       "    <tr>\n",
       "      <th>9</th>\n",
       "      <td>22472</td>\n",
       "      <td>137141</td>\n",
       "      <td>159614</td>\n",
       "    </tr>\n",
       "    <tr>\n",
       "      <th>7</th>\n",
       "      <td>8049</td>\n",
       "      <td>146288</td>\n",
       "      <td>154337</td>\n",
       "    </tr>\n",
       "    <tr>\n",
       "      <th>11</th>\n",
       "      <td>43300</td>\n",
       "      <td>108205</td>\n",
       "      <td>151506</td>\n",
       "    </tr>\n",
       "    <tr>\n",
       "      <th>10</th>\n",
       "      <td>33803</td>\n",
       "      <td>92634</td>\n",
       "      <td>126439</td>\n",
       "    </tr>\n",
       "    <tr>\n",
       "      <th>21</th>\n",
       "      <td>20578</td>\n",
       "      <td>104978</td>\n",
       "      <td>125556</td>\n",
       "    </tr>\n",
       "    <tr>\n",
       "      <th>22</th>\n",
       "      <td>16208</td>\n",
       "      <td>79516</td>\n",
       "      <td>95724</td>\n",
       "    </tr>\n",
       "    <tr>\n",
       "      <th>23</th>\n",
       "      <td>11073</td>\n",
       "      <td>52981</td>\n",
       "      <td>64055</td>\n",
       "    </tr>\n",
       "    <tr>\n",
       "      <th>6</th>\n",
       "      <td>3029</td>\n",
       "      <td>52267</td>\n",
       "      <td>55299</td>\n",
       "    </tr>\n",
       "    <tr>\n",
       "      <th>0</th>\n",
       "      <td>7383</td>\n",
       "      <td>31867</td>\n",
       "      <td>39250</td>\n",
       "    </tr>\n",
       "    <tr>\n",
       "      <th>1</th>\n",
       "      <td>4719</td>\n",
       "      <td>19594</td>\n",
       "      <td>24316</td>\n",
       "    </tr>\n",
       "    <tr>\n",
       "      <th>2</th>\n",
       "      <td>3441</td>\n",
       "      <td>13178</td>\n",
       "      <td>16623</td>\n",
       "    </tr>\n",
       "    <tr>\n",
       "      <th>5</th>\n",
       "      <td>1027</td>\n",
       "      <td>13415</td>\n",
       "      <td>14444</td>\n",
       "    </tr>\n",
       "    <tr>\n",
       "      <th>3</th>\n",
       "      <td>1915</td>\n",
       "      <td>6500</td>\n",
       "      <td>8422</td>\n",
       "    </tr>\n",
       "    <tr>\n",
       "      <th>4</th>\n",
       "      <td>887</td>\n",
       "      <td>3825</td>\n",
       "      <td>4721</td>\n",
       "    </tr>\n",
       "  </tbody>\n",
       "</table>\n",
       "</div>"
      ],
      "text/plain": [
       "    casual  registered     cnt\n",
       "hr                            \n",
       "17   54226      282699  336925\n",
       "18   44503      265375  309878\n",
       "8    15773      245398  261173\n",
       "16   53839      173970  227810\n",
       "19   35512      191384  226897\n",
       "13   52718      132278  184998\n",
       "12   49732      134868  184603\n",
       "15   54611      128620  183233\n",
       "14   55094      120638  175733\n",
       "20   26385      138273  164659\n",
       "9    22472      137141  159614\n",
       "7     8049      146288  154337\n",
       "11   43300      108205  151506\n",
       "10   33803       92634  126439\n",
       "21   20578      104978  125556\n",
       "22   16208       79516   95724\n",
       "23   11073       52981   64055\n",
       "6     3029       52267   55299\n",
       "0     7383       31867   39250\n",
       "1     4719       19594   24316\n",
       "2     3441       13178   16623\n",
       "5     1027       13415   14444\n",
       "3     1915        6500    8422\n",
       "4      887        3825    4721"
      ]
     },
     "execution_count": 67,
     "metadata": {},
     "output_type": "execute_result"
    }
   ],
   "source": [
    "new_hour_df.groupby(by='hr').agg({\n",
    "    'casual':'sum',\n",
    "    'registered':'sum',\n",
    "    'cnt':'sum',\n",
    "}).sort_values('cnt',ascending=False)"
   ]
  },
  {
   "cell_type": "markdown",
   "metadata": {
    "id": "9Fe9w7y4TaxK"
   },
   "source": [
    "Membagi waktu menjadi beberapa bagian."
   ]
  },
  {
   "cell_type": "code",
   "execution_count": 68,
   "metadata": {
    "ExecuteTime": {
     "end_time": "2023-07-06T05:10:09.582427400Z",
     "start_time": "2023-07-06T05:10:09.136180400Z"
    },
    "colab": {
     "base_uri": "https://localhost:8080/",
     "height": 206
    },
    "id": "7UM3EUmrUbZX",
    "outputId": "87a25d65-e2a4-48ec-8835-c0473527a1c9"
   },
   "outputs": [
    {
     "data": {
      "text/html": [
       "<div>\n",
       "<style scoped>\n",
       "    .dataframe tbody tr th:only-of-type {\n",
       "        vertical-align: middle;\n",
       "    }\n",
       "\n",
       "    .dataframe tbody tr th {\n",
       "        vertical-align: top;\n",
       "    }\n",
       "\n",
       "    .dataframe thead th {\n",
       "        text-align: right;\n",
       "    }\n",
       "</style>\n",
       "<table border=\"1\" class=\"dataframe\">\n",
       "  <thead>\n",
       "    <tr style=\"text-align: right;\">\n",
       "      <th></th>\n",
       "      <th>instant</th>\n",
       "      <th>dteday</th>\n",
       "      <th>season</th>\n",
       "      <th>yr</th>\n",
       "      <th>mnth</th>\n",
       "      <th>hr</th>\n",
       "      <th>holiday</th>\n",
       "      <th>weekday</th>\n",
       "      <th>workingday</th>\n",
       "      <th>weathersit</th>\n",
       "      <th>temp</th>\n",
       "      <th>atemp</th>\n",
       "      <th>hum</th>\n",
       "      <th>windspeed</th>\n",
       "      <th>casual</th>\n",
       "      <th>registered</th>\n",
       "      <th>cnt</th>\n",
       "      <th>hr_group</th>\n",
       "    </tr>\n",
       "  </thead>\n",
       "  <tbody>\n",
       "    <tr>\n",
       "      <th>0</th>\n",
       "      <td>1</td>\n",
       "      <td>2011-01-01</td>\n",
       "      <td>1</td>\n",
       "      <td>0</td>\n",
       "      <td>1</td>\n",
       "      <td>0</td>\n",
       "      <td>0</td>\n",
       "      <td>6</td>\n",
       "      <td>0</td>\n",
       "      <td>1</td>\n",
       "      <td>0.24</td>\n",
       "      <td>0.2879</td>\n",
       "      <td>0.81</td>\n",
       "      <td>0.0</td>\n",
       "      <td>3</td>\n",
       "      <td>13</td>\n",
       "      <td>16</td>\n",
       "      <td>malam</td>\n",
       "    </tr>\n",
       "    <tr>\n",
       "      <th>1</th>\n",
       "      <td>2</td>\n",
       "      <td>2011-01-01</td>\n",
       "      <td>1</td>\n",
       "      <td>0</td>\n",
       "      <td>1</td>\n",
       "      <td>1</td>\n",
       "      <td>0</td>\n",
       "      <td>6</td>\n",
       "      <td>0</td>\n",
       "      <td>1</td>\n",
       "      <td>0.22</td>\n",
       "      <td>0.2727</td>\n",
       "      <td>0.80</td>\n",
       "      <td>0.0</td>\n",
       "      <td>8</td>\n",
       "      <td>32</td>\n",
       "      <td>40</td>\n",
       "      <td>malam</td>\n",
       "    </tr>\n",
       "    <tr>\n",
       "      <th>2</th>\n",
       "      <td>3</td>\n",
       "      <td>2011-01-01</td>\n",
       "      <td>1</td>\n",
       "      <td>0</td>\n",
       "      <td>1</td>\n",
       "      <td>2</td>\n",
       "      <td>0</td>\n",
       "      <td>6</td>\n",
       "      <td>0</td>\n",
       "      <td>1</td>\n",
       "      <td>0.22</td>\n",
       "      <td>0.2727</td>\n",
       "      <td>0.80</td>\n",
       "      <td>0.0</td>\n",
       "      <td>5</td>\n",
       "      <td>27</td>\n",
       "      <td>32</td>\n",
       "      <td>malam</td>\n",
       "    </tr>\n",
       "    <tr>\n",
       "      <th>3</th>\n",
       "      <td>4</td>\n",
       "      <td>2011-01-01</td>\n",
       "      <td>1</td>\n",
       "      <td>0</td>\n",
       "      <td>1</td>\n",
       "      <td>3</td>\n",
       "      <td>0</td>\n",
       "      <td>6</td>\n",
       "      <td>0</td>\n",
       "      <td>1</td>\n",
       "      <td>0.24</td>\n",
       "      <td>0.2879</td>\n",
       "      <td>0.75</td>\n",
       "      <td>0.0</td>\n",
       "      <td>3</td>\n",
       "      <td>10</td>\n",
       "      <td>13</td>\n",
       "      <td>pagi</td>\n",
       "    </tr>\n",
       "    <tr>\n",
       "      <th>4</th>\n",
       "      <td>5</td>\n",
       "      <td>2011-01-01</td>\n",
       "      <td>1</td>\n",
       "      <td>0</td>\n",
       "      <td>1</td>\n",
       "      <td>4</td>\n",
       "      <td>0</td>\n",
       "      <td>6</td>\n",
       "      <td>0</td>\n",
       "      <td>1</td>\n",
       "      <td>0.24</td>\n",
       "      <td>0.2879</td>\n",
       "      <td>0.75</td>\n",
       "      <td>0.0</td>\n",
       "      <td>0</td>\n",
       "      <td>1</td>\n",
       "      <td>1</td>\n",
       "      <td>pagi</td>\n",
       "    </tr>\n",
       "  </tbody>\n",
       "</table>\n",
       "</div>"
      ],
      "text/plain": [
       "   instant      dteday  season  yr  mnth  hr  holiday  weekday  workingday  \\\n",
       "0        1  2011-01-01       1   0     1   0        0        6           0   \n",
       "1        2  2011-01-01       1   0     1   1        0        6           0   \n",
       "2        3  2011-01-01       1   0     1   2        0        6           0   \n",
       "3        4  2011-01-01       1   0     1   3        0        6           0   \n",
       "4        5  2011-01-01       1   0     1   4        0        6           0   \n",
       "\n",
       "   weathersit  temp   atemp   hum  windspeed  casual  registered  cnt hr_group  \n",
       "0           1  0.24  0.2879  0.81        0.0       3          13   16    malam  \n",
       "1           1  0.22  0.2727  0.80        0.0       8          32   40    malam  \n",
       "2           1  0.22  0.2727  0.80        0.0       5          27   32    malam  \n",
       "3           1  0.24  0.2879  0.75        0.0       3          10   13     pagi  \n",
       "4           1  0.24  0.2879  0.75        0.0       0           1    1     pagi  "
      ]
     },
     "execution_count": 68,
     "metadata": {},
     "output_type": "execute_result"
    }
   ],
   "source": [
    "def kelompokwaktu(hr):\n",
    "  if hr in [0,1,2,19,20,21,22,23]:\n",
    "    return \"malam\"\n",
    "  if hr in [3,4,5,6,7,8,9]:\n",
    "    return 'pagi'\n",
    "  if hr in [10,11,12,13,14]:\n",
    "    return 'siang'\n",
    "  if hr in [15,16,17,18]:\n",
    "    return 'sore'\n",
    "\n",
    "new_hour_df['hr_group'] = new_hour_df.hr.apply(kelompokwaktu)\n",
    "new_hour_df.head()"
   ]
  },
  {
   "cell_type": "code",
   "execution_count": 69,
   "metadata": {
    "ExecuteTime": {
     "end_time": "2023-07-06T05:10:09.605427500Z",
     "start_time": "2023-07-06T05:10:09.201060500Z"
    },
    "colab": {
     "base_uri": "https://localhost:8080/",
     "height": 206
    },
    "id": "XGkRQ7IdWR8z",
    "outputId": "40060133-6d49-44e2-e139-30d4b93e95b9"
   },
   "outputs": [
    {
     "data": {
      "text/html": [
       "<div>\n",
       "<style scoped>\n",
       "    .dataframe tbody tr th:only-of-type {\n",
       "        vertical-align: middle;\n",
       "    }\n",
       "\n",
       "    .dataframe tbody tr th {\n",
       "        vertical-align: top;\n",
       "    }\n",
       "\n",
       "    .dataframe thead th {\n",
       "        text-align: right;\n",
       "    }\n",
       "</style>\n",
       "<table border=\"1\" class=\"dataframe\">\n",
       "  <thead>\n",
       "    <tr style=\"text-align: right;\">\n",
       "      <th></th>\n",
       "      <th>casual</th>\n",
       "      <th>registered</th>\n",
       "      <th>cnt</th>\n",
       "    </tr>\n",
       "    <tr>\n",
       "      <th>hr_group</th>\n",
       "      <th></th>\n",
       "      <th></th>\n",
       "      <th></th>\n",
       "    </tr>\n",
       "  </thead>\n",
       "  <tbody>\n",
       "    <tr>\n",
       "      <th>sore</th>\n",
       "      <td>207179</td>\n",
       "      <td>850664</td>\n",
       "      <td>1057846</td>\n",
       "    </tr>\n",
       "    <tr>\n",
       "      <th>siang</th>\n",
       "      <td>234647</td>\n",
       "      <td>588623</td>\n",
       "      <td>823279</td>\n",
       "    </tr>\n",
       "    <tr>\n",
       "      <th>malam</th>\n",
       "      <td>125299</td>\n",
       "      <td>631771</td>\n",
       "      <td>757080</td>\n",
       "    </tr>\n",
       "    <tr>\n",
       "      <th>pagi</th>\n",
       "      <td>53152</td>\n",
       "      <td>604834</td>\n",
       "      <td>658010</td>\n",
       "    </tr>\n",
       "  </tbody>\n",
       "</table>\n",
       "</div>"
      ],
      "text/plain": [
       "          casual  registered      cnt\n",
       "hr_group                             \n",
       "sore      207179      850664  1057846\n",
       "siang     234647      588623   823279\n",
       "malam     125299      631771   757080\n",
       "pagi       53152      604834   658010"
      ]
     },
     "execution_count": 69,
     "metadata": {},
     "output_type": "execute_result"
    }
   ],
   "source": [
    "new_hour_df.groupby(by='hr_group').agg({\n",
    "    'casual':'sum',\n",
    "    'registered':'sum',\n",
    "    'cnt':'sum',\n",
    "}).sort_values('cnt',ascending=False)"
   ]
  },
  {
   "cell_type": "markdown",
   "metadata": {
    "id": "QMLKYrXungub"
   },
   "source": [
    "berdasarkan informasi diatas dapat dilihat bahwa secara keseluruhan pengguna sepeda lebih cenderung menggunakan sepeda di sore hari"
   ]
  },
  {
   "cell_type": "markdown",
   "metadata": {
    "id": "Iy2OneT8bTr2"
   },
   "source": [
    "## Data Visualization"
   ]
  },
  {
   "cell_type": "markdown",
   "metadata": {
    "id": "ujFiA7jwUIG0"
   },
   "source": [
    "### visualisasi statistik harian"
   ]
  },
  {
   "cell_type": "code",
   "execution_count": 70,
   "metadata": {
    "ExecuteTime": {
     "end_time": "2023-07-06T05:10:09.606426500Z",
     "start_time": "2023-07-06T05:10:09.230504800Z"
    },
    "id": "QjcwEMYpwie5"
   },
   "outputs": [],
   "source": [
    "new_hour_df['dteday'] = pd.to_datetime(new_hour_df['dteday'])\n",
    "new_day_df['dteday'] = pd.to_datetime(new_day_df['dteday'])"
   ]
  },
  {
   "cell_type": "code",
   "execution_count": 71,
   "metadata": {
    "ExecuteTime": {
     "end_time": "2023-07-06T05:10:09.618032600Z",
     "start_time": "2023-07-06T05:10:09.262798200Z"
    },
    "id": "08VlH7SLwIQF"
   },
   "outputs": [],
   "source": [
    "def plot_per_hours(day, df):\n",
    "  one_day = df.loc[df.dteday == day].copy()\n",
    "  # normalisasi\n",
    "  one_day.casual = (one_day.casual - one_day.casual.mean()) / one_day.casual.std()\n",
    "  one_day.registered = (one_day.registered - one_day.registered.mean()) / one_day.registered.std()\n",
    "\n",
    "  plt.figure(figsize=(12, 5))\n",
    "  plt.plot(one_day['hr'], one_day['casual'], color='#66ff66')\n",
    "  plt.plot(one_day['hr'], one_day['registered'], color='#ff6666')\n",
    "  plt.title(f'user stats on {day.date()}')\n",
    "  plt.xticks(one_day['hr'])\n",
    "  plt.yticks([])\n",
    "  plt.xlabel('hour',size=15)\n",
    "  plt.ylabel(\"Stats\")\n",
    "  plt.legend(['casual user','registered user'])\n",
    "  plt.show()"
   ]
  },
  {
   "cell_type": "code",
   "execution_count": 72,
   "metadata": {
    "ExecuteTime": {
     "end_time": "2023-07-06T05:10:10.041867900Z",
     "start_time": "2023-07-06T05:10:09.297069300Z"
    },
    "colab": {
     "base_uri": "https://localhost:8080/",
     "height": 493
    },
    "id": "jPaTXcpXwsqo",
    "outputId": "df780abf-5724-4eda-a732-0350415c2b63"
   },
   "outputs": [
    {
     "data": {
      "image/png": "[encoded data removed]",
      "text/plain": [
       "<Figure size 1200x500 with 1 Axes>"
      ]
     },
     "metadata": {},
     "output_type": "display_data"
    }
   ],
   "source": [
    "plot_per_hours(datetime.datetime(2012,10,29),new_hour_df)"
   ]
  },
  {
   "cell_type": "markdown",
   "metadata": {
    "id": "YCUvkyCdW4mC"
   },
   "source": [
    "### Visualisasi keramaian pengguna berdasarkan jam"
   ]
  },
  {
   "cell_type": "code",
   "execution_count": 73,
   "metadata": {
    "ExecuteTime": {
     "end_time": "2023-07-06T05:10:10.535142700Z",
     "start_time": "2023-07-06T05:10:09.887941100Z"
    },
    "colab": {
     "base_uri": "https://localhost:8080/",
     "height": 587
    },
    "id": "Rk3dNGg2bWu7",
    "outputId": "bc7bca2d-0bd8-415b-fe9b-b558b29cba55"
   },
   "outputs": [
    {
     "data": {
      "image/png": "[encoded data removed]",
      "text/plain": [
       "<Figure size 1500x1500 with 2 Axes>"
      ]
     },
     "metadata": {},
     "output_type": "display_data"
    }
   ],
   "source": [
    "by_hr_group =  new_hour_df.groupby(by='hr_group').agg({\n",
    "                    'casual':'sum',\n",
    "                    'registered':'sum',\n",
    "                }).reset_index()\n",
    "\n",
    "fig = plt.gcf()\n",
    "fig.set_size_inches(15,15)\n",
    "colors = ('#6D9EEB', '#76D7C4', '#F7DC6F', '#E59866')\n",
    "\n",
    "plt.subplot(1,2,1)\n",
    "plt.title('Casual users')\n",
    "plt.pie(\n",
    "    x=by_hr_group.casual,\n",
    "    autopct='%1.1f%%',\n",
    "    colors=colors,\n",
    "    explode=(0, 0, 0.1, 0)\n",
    ")\n",
    "\n",
    "plt.subplot(1,2,2)\n",
    "plt.title('Registered users')\n",
    "plt.pie(\n",
    "    x=by_hr_group.registered,\n",
    "    autopct='%1.1f%%',\n",
    "    colors=colors,\n",
    "    explode=(0, 0, 0, 0.1)\n",
    ")\n",
    "plt.legend(by_hr_group.hr_group)\n",
    "plt.show()"
   ]
  },
  {
   "cell_type": "markdown",
   "metadata": {
    "id": "GJNNg0evYBmz"
   },
   "source": [
    "### Visualisasi keramaian pengguna berdasarkan hari"
   ]
  },
  {
   "cell_type": "code",
   "execution_count": 74,
   "metadata": {
    "ExecuteTime": {
     "end_time": "2023-07-06T05:10:10.974028500Z",
     "start_time": "2023-07-06T05:10:10.220631700Z"
    },
    "colab": {
     "base_uri": "https://localhost:8080/",
     "height": 487
    },
    "id": "7KM0nDc3iIv4",
    "outputId": "0eb8cc57-0008-4951-e44a-54b2c5ba94d1"
   },
   "outputs": [
    {
     "data": {
      "image/png": "[encoded data removed]",
      "text/plain": [
       "<Figure size 1500x500 with 2 Axes>"
      ]
     },
     "metadata": {},
     "output_type": "display_data"
    }
   ],
   "source": [
    "by_weekday =  new_day_df.groupby(by='weekday').agg({\n",
    "                    'casual':'sum',\n",
    "                    'registered':'sum',\n",
    "                    'cnt':'sum'\n",
    "                }).reset_index()\n",
    "\n",
    "by_weekday.weekday = ['senin','selasa','rabu','kamis','jumat','sabtu','minggu']\n",
    "\n",
    "norm_casual = (by_weekday.casual - by_weekday.casual.mean()) / by_weekday.casual.std()\n",
    "norm_registered = (by_weekday.registered - by_weekday.registered.mean()) / by_weekday.registered.std()\n",
    "\n",
    "fig, ax = plt.subplots(1,2,figsize=(15,5))\n",
    "ax[0].bar(by_weekday.weekday, norm_casual, 0.04, color='#dadada')\n",
    "ax[0].bar(by_weekday.weekday, norm_registered, 0.04, color='#dadada')\n",
    "ax[0].plot(by_weekday.weekday, norm_casual, label = 'casual user', color='#4afa4a')\n",
    "ax[0].plot(by_weekday.weekday, norm_registered, label = 'registered user', color='#4a4afa')\n",
    "ax[0].set_yticks([])\n",
    "ax[0].set_ylabel(\"user stats\")\n",
    "ax[0].set_title(\"Perbandingan preferensi hari pengguna casual dan registered\")\n",
    "ax[0].legend()\n",
    "\n",
    "colors = [\"#A3DBA3\",\"#A3DBA3\", \"#A3DBA3\",\"#A3DBA3\", \"#A3DBA3\",\"#A3DBA3\", \"#006600\",]\n",
    "ax[1].barh('weekday', 'cnt',data=by_weekday.sort_values(by='cnt') ,color = colors)\n",
    "ax[1].set_xlabel(\"user count\")\n",
    "ax[1].set_title(\"Keramaian pengguna berdasarkan hari dalam minggu\")\n",
    "plt.show()"
   ]
  },
  {
   "cell_type": "markdown",
   "metadata": {
    "id": "zXIir_acMBpI"
   },
   "source": [
    "### Visualisasi keramaian pengguna berdasarkan siklus per tahun"
   ]
  },
  {
   "cell_type": "code",
   "execution_count": 75,
   "metadata": {
    "ExecuteTime": {
     "end_time": "2023-07-06T05:10:10.989625600Z",
     "start_time": "2023-07-06T05:10:10.867869500Z"
    },
    "id": "xykRZCEHMYTf"
   },
   "outputs": [],
   "source": [
    "def plot_yearly(new_hour_df, year=None):\n",
    "  if year is not None:\n",
    "    new_hour_df = new_hour_df[new_hour_df.yr==year].copy()\n",
    "  by_month = new_hour_df.groupby(by='mnth').agg({\n",
    "                      'cnt':'sum'\n",
    "                  }).reset_index()\n",
    "  by_month.mnth = ['Januari','Februari', 'Maret','April','Mei','Juni','Juli','Agustus','September','Oktober','November','Desember']\n",
    "  by_season = new_hour_df.groupby(by='season').agg({\n",
    "                      'cnt':'sum'\n",
    "                  }).reset_index()\n",
    "  by_season.season = ['spring', 'summer', 'fall', 'winter']\n",
    "\n",
    "  fig, ax = plt.subplots(1,2,figsize=(15,5))\n",
    "  ax[0].pie(\n",
    "      x = by_season.cnt,\n",
    "      labels = by_season.season,\n",
    "      autopct='%1.1f%%',\n",
    "      colors=['#A8D08D', '#F4C542', '#D97B4C', '#A4C8E4'],\n",
    "      explode=(0, 0, 0.1, 0)\n",
    "  )\n",
    "  ax[0].set_title(\"Jumlah Pengguna Setiap Musim\")\n",
    "\n",
    "\n",
    "  ax[1].bar('mnth', 'cnt',0.5,data=by_month ,color = '#fadada')\n",
    "  ax[1].plot('mnth', 'cnt',data=by_month ,color = '#fa4a4a')\n",
    "  ax[1].set_xticks(by_month.mnth, labels=by_month.mnth, rotation=45)\n",
    "  ax[1].yaxis.tick_right()\n",
    "  ax[1].yaxis.set_label_position(\"right\")\n",
    "  ax[1].set_ylabel(\"user count\")\n",
    "  ax[1].set_title(\"Jumlah pengguna per bulan\")\n",
    "  plt.suptitle(f\"Siklus jumlah pengguna per tahun {2011 if year==0 else 2012 if year==1 else ''}\")\n",
    "  plt.show()"
   ]
  },
  {
   "cell_type": "code",
   "execution_count": 76,
   "metadata": {
    "ExecuteTime": {
     "end_time": "2023-07-06T05:10:11.426890100Z",
     "start_time": "2023-07-06T05:10:10.887949600Z"
    },
    "colab": {
     "base_uri": "https://localhost:8080/",
     "height": 545
    },
    "id": "0wFqjVHIWzFQ",
    "outputId": "b80c1a32-4474-462e-81e7-fd16e8dce3f8"
   },
   "outputs": [
    {
     "data": {
      "image/png": "[encoded data removed]",
      "text/plain": [
       "<Figure size 1500x500 with 2 Axes>"
      ]
     },
     "metadata": {},
     "output_type": "display_data"
    }
   ],
   "source": [
    "plot_yearly(new_hour_df)"
   ]
  },
  {
   "cell_type": "code",
   "execution_count": 77,
   "metadata": {
    "ExecuteTime": {
     "end_time": "2023-07-06T05:10:12.025401600Z",
     "start_time": "2023-07-06T05:10:11.405327500Z"
    },
    "colab": {
     "base_uri": "https://localhost:8080/",
     "height": 545
    },
    "id": "xyXZdD-UX4-9",
    "outputId": "c61264e6-b74d-4a43-a096-76df3ab241fc"
   },
   "outputs": [
    {
     "data": {
      "image/png": "[encoded data removed]",
      "text/plain": [
       "<Figure size 1500x500 with 2 Axes>"
      ]
     },
     "metadata": {},
     "output_type": "display_data"
    }
   ],
   "source": [
    "plot_yearly(new_hour_df,0)"
   ]
  },
  {
   "cell_type": "code",
   "execution_count": 78,
   "metadata": {
    "ExecuteTime": {
     "end_time": "2023-07-06T05:10:12.370620600Z",
     "start_time": "2023-07-06T05:10:12.024388600Z"
    },
    "colab": {
     "base_uri": "https://localhost:8080/",
     "height": 545
    },
    "id": "qTSN1CCTX6w8",
    "outputId": "6676644f-d0aa-4663-d5fe-38964e5a701c"
   },
   "outputs": [
    {
     "data": {
      "image/png": "[encoded data removed]",
      "text/plain": [
       "<Figure size 1500x500 with 2 Axes>"
      ]
     },
     "metadata": {},
     "output_type": "display_data"
    }
   ],
   "source": [
    "plot_yearly(new_hour_df,1)"
   ]
  },
  {
   "cell_type": "markdown",
   "metadata": {
    "id": "3NFCyLgsHTXD"
   },
   "source": [
    "### Visualisasi korelasi setiap parameter terhadap keramaian pengguna"
   ]
  },
  {
   "cell_type": "code",
   "execution_count": 79,
   "metadata": {
    "ExecuteTime": {
     "end_time": "2023-07-06T05:10:12.370620600Z",
     "start_time": "2023-07-06T05:10:12.321001100Z"
    },
    "id": "BqniCB1aIMeC"
   },
   "outputs": [],
   "source": [
    "def get_corr(df, _with):\n",
    "  corr_index = [\"month\",\"holiday\",\"weekday\",\"working day\",\"weather\",\"temperature\",\"feeling temperature\",\"humidity\",\"windspeed\",]\n",
    "  _with = df[_with]\n",
    "  corr = df.loc[:,parameters].corrwith(_with)\n",
    "  corr.index = corr_index\n",
    "  corr = corr.abs().reset_index().rename({0:'corr'}, axis=1)\n",
    "  return corr"
   ]
  },
  {
   "cell_type": "code",
   "execution_count": 80,
   "metadata": {
    "ExecuteTime": {
     "end_time": "2023-07-06T05:10:12.547473Z",
     "start_time": "2023-07-06T05:10:12.341304100Z"
    },
    "id": "eq6_uFBzMu9k"
   },
   "outputs": [],
   "source": [
    "def corr_barplot(df, _with):\n",
    "  corr = get_corr(df, _with)\n",
    "  fig, ax = plt.subplots(nrows=1, ncols=2, figsize=(24, 6))\n",
    "\n",
    "  colors1 = [\"#4CAF50\", \"#66BB6A\", \"#81C784\", \"#A5D6A7\", \"#C8E6C9\"]\n",
    "  colors2 = [\"#FF7043\", \"#FF5722\", \"#F4511E\", \"#D32F2F\", \"#C62828\"]\n",
    "\n",
    "  sns.barplot(x='corr', y='index',data=corr.sort_values(by=\"corr\",ascending=False).head(), palette=colors1, ax=ax[0])\n",
    "  ax[0].set_ylabel(None)\n",
    "  ax[0].set_xlabel(None)\n",
    "  ax[0].set_title(\"Most Correlation\", loc=\"center\", fontsize=15)\n",
    "  ax[0].tick_params(axis ='y', labelsize=12)\n",
    "\n",
    "  sns.barplot(x='corr', y='index',data=corr.sort_values(by=\"corr\",ascending=True).head(), palette=colors2, ax=ax[1])\n",
    "  ax[1].set_ylabel(None)\n",
    "  ax[1].set_xlabel(None)\n",
    "  ax[1].invert_xaxis()\n",
    "  ax[1].yaxis.set_label_position(\"right\")\n",
    "  ax[1].yaxis.tick_right()\n",
    "  ax[1].set_title(\"Least Correlation\", loc=\"center\", fontsize=15)\n",
    "  ax[1].tick_params(axis='y', labelsize=12)\n",
    "\n",
    "  plt.suptitle(f\"Most and Least correlation with '{_with}' column \", fontsize=20)\n",
    "  plt.show()"
   ]
  },
  {
   "cell_type": "code",
   "execution_count": 81,
   "metadata": {
    "ExecuteTime": {
     "end_time": "2023-07-06T05:10:13.326664200Z",
     "start_time": "2023-07-06T05:10:12.356986600Z"
    },
    "colab": {
     "base_uri": "https://localhost:8080/",
     "height": 580
    },
    "id": "ivUdhQ4hOr6B",
    "outputId": "76843567-d3cf-4d96-a645-f6561eee5a77"
   },
   "outputs": [
    {
     "name": "stderr",
     "output_type": "stream",
     "text": [
      "C:\\Users\\LUQMAN\\AppData\\Local\\Temp\\ipykernel_21484\\104667069.py:8: FutureWarning: \n",
      "\n",
      "Passing `palette` without assigning `hue` is deprecated and will be removed in v0.14.0. Assign the `y` variable to `hue` and set `legend=False` for the same effect.\n",
      "\n",
      "  sns.barplot(x='corr', y='index',data=corr.sort_values(by=\"corr\",ascending=False).head(), palette=colors1, ax=ax[0])\n",
      "C:\\Users\\LUQMAN\\AppData\\Local\\Temp\\ipykernel_21484\\104667069.py:14: FutureWarning: \n",
      "\n",
      "Passing `palette` without assigning `hue` is deprecated and will be removed in v0.14.0. Assign the `y` variable to `hue` and set `legend=False` for the same effect.\n",
      "\n",
      "  sns.barplot(x='corr', y='index',data=corr.sort_values(by=\"corr\",ascending=True).head(), palette=colors2, ax=ax[1])\n"
     ]
    },
    {
     "data": {
      "image/png": "[encoded data removed]",
      "text/plain": [
       "<Figure size 2400x600 with 2 Axes>"
      ]
     },
     "metadata": {},
     "output_type": "display_data"
    }
   ],
   "source": [
    "corr_barplot(new_day_df,'cnt')"
   ]
  },
  {
   "cell_type": "code",
   "execution_count": 82,
   "metadata": {
    "ExecuteTime": {
     "end_time": "2023-07-06T05:10:14.040067400Z",
     "start_time": "2023-07-06T05:10:13.330684900Z"
    },
    "colab": {
     "base_uri": "https://localhost:8080/",
     "height": 583
    },
    "id": "80xnDY8_SwER",
    "outputId": "14602020-68c7-4ac7-a304-498ae228db78"
   },
   "outputs": [
    {
     "name": "stderr",
     "output_type": "stream",
     "text": [
      "C:\\Users\\LUQMAN\\AppData\\Local\\Temp\\ipykernel_21484\\104667069.py:8: FutureWarning: \n",
      "\n",
      "Passing `palette` without assigning `hue` is deprecated and will be removed in v0.14.0. Assign the `y` variable to `hue` and set `legend=False` for the same effect.\n",
      "\n",
      "  sns.barplot(x='corr', y='index',data=corr.sort_values(by=\"corr\",ascending=False).head(), palette=colors1, ax=ax[0])\n",
      "C:\\Users\\LUQMAN\\AppData\\Local\\Temp\\ipykernel_21484\\104667069.py:14: FutureWarning: \n",
      "\n",
      "Passing `palette` without assigning `hue` is deprecated and will be removed in v0.14.0. Assign the `y` variable to `hue` and set `legend=False` for the same effect.\n",
      "\n",
      "  sns.barplot(x='corr', y='index',data=corr.sort_values(by=\"corr\",ascending=True).head(), palette=colors2, ax=ax[1])\n"
     ]
    },
    {
     "data": {
      "image/png": "[encoded data removed]",
      "text/plain": [
       "<Figure size 2400x600 with 2 Axes>"
      ]
     },
     "metadata": {},
     "output_type": "display_data"
    }
   ],
   "source": [
    "corr_barplot(new_day_df,'casual')"
   ]
  },
  {
   "cell_type": "code",
   "execution_count": 83,
   "metadata": {
    "ExecuteTime": {
     "end_time": "2023-07-06T05:10:14.672360400Z",
     "start_time": "2023-07-06T05:10:14.028074100Z"
    },
    "colab": {
     "base_uri": "https://localhost:8080/",
     "height": 583
    },
    "id": "yvyfrLkVTGfR",
    "outputId": "377e6643-5d26-4901-b264-0eb5fa761540"
   },
   "outputs": [
    {
     "name": "stderr",
     "output_type": "stream",
     "text": [
      "C:\\Users\\LUQMAN\\AppData\\Local\\Temp\\ipykernel_21484\\104667069.py:8: FutureWarning: \n",
      "\n",
      "Passing `palette` without assigning `hue` is deprecated and will be removed in v0.14.0. Assign the `y` variable to `hue` and set `legend=False` for the same effect.\n",
      "\n",
      "  sns.barplot(x='corr', y='index',data=corr.sort_values(by=\"corr\",ascending=False).head(), palette=colors1, ax=ax[0])\n",
      "C:\\Users\\LUQMAN\\AppData\\Local\\Temp\\ipykernel_21484\\104667069.py:14: FutureWarning: \n",
      "\n",
      "Passing `palette` without assigning `hue` is deprecated and will be removed in v0.14.0. Assign the `y` variable to `hue` and set `legend=False` for the same effect.\n",
      "\n",
      "  sns.barplot(x='corr', y='index',data=corr.sort_values(by=\"corr\",ascending=True).head(), palette=colors2, ax=ax[1])\n"
     ]
    },
    {
     "data": {
      "image/png": "[encoded data removed]",
      "text/plain": [
       "<Figure size 2400x600 with 2 Axes>"
      ]
     },
     "metadata": {},
     "output_type": "display_data"
    }
   ],
   "source": [
    "corr_barplot(new_day_df,'registered')"
   ]
  },
  {
   "cell_type": "markdown",
   "metadata": {
    "id": "mNjks372kP46"
   },
   "source": [
    "## Kesimpulan\n",
    "\n",
    "Berdasarkan explorasi dan visualisasi yang saya lakukan saya adapun kesimpulan dari saya yaitu :\n",
    "\n",
    "1. Setiap tahunnya, permintaan sepeda cenderung lebih tinggi pada musim gugur dan lebih rendah pada musim semi. Selisih antara musim panas dan musim dingin relatif kecil jika dibandingkan dengan musim gugur.\n",
    "\n",
    "2. Terdapat perbedaan yang signifikan antara pengguna kasual dan pengguna terdaftar dalam hal preferensi penggunaan sepeda. Pengguna kasual lebih sering menggunakan sepeda pada akhir pekan dan di siang hari, sementara pengguna terdaftar lebih sering menggunakan sepeda pada hari kerja, terutama pada sore hari.\n",
    "\n",
    "3. Faktor utama yang mempengaruhi naik turunnya permintaan sepeda adalah suhu udara pada hari tersebut. Pengguna cenderung lebih banyak menggunakan sepeda saat suhu berada dalam kisaran yang nyaman, terutama saat cuaca hangat."
   ]
  },
  {
   "cell_type": "code",
   "execution_count": 84,
   "metadata": {
    "ExecuteTime": {
     "end_time": "2023-07-06T05:10:14.972775600Z",
     "start_time": "2023-07-06T05:10:14.665920300Z"
    },
    "id": "PlmdhP3B49gS"
   },
   "outputs": [],
   "source": [
    "# menyimpan data yang sudah diproses\n",
    "new_day_df.to_csv('dashboard/new_day.csv',index=False)\n",
    "new_hour_df.to_csv('dashboard/new_hour.csv',index=False)"
   ]
  }
 ],
 "metadata": {
  "colab": {
   "provenance": []
  },
  "kernelspec": {
   "display_name": "Python 3",
   "language": "python",
   "name": "python3"
  },
  "language_info": {
   "codemirror_mode": {
    "name": "ipython",
    "version": 3
   },
   "file_extension": ".py",
   "mimetype": "text/x-python",
   "name": "python",
   "nbconvert_exporter": "python",
   "pygments_lexer": "ipython3",
   "version": "3.10.6"
  }
 },
 "nbformat": 4,
 "nbformat_minor": 0
}
